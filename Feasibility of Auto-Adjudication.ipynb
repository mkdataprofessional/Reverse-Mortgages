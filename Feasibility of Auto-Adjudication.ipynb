{
 "cells": [
  {
   "cell_type": "markdown",
   "metadata": {
    "id": "_JVZ0Ke3hB_w"
   },
   "source": [
    "# **Case Study: Feasibility of Auto-Adjudication**\n",
    "\n",
    "**M. Kayumov**"
   ]
  },
  {
   "cell_type": "markdown",
   "metadata": {
    "id": "yly_j_rdiQWA"
   },
   "source": [
    "### **Task**\n",
    "Based on the existing data set: \n",
    "- perform an EDA, \n",
    "- create ML models that could be used as a basis for auto-adjudication,\n",
    "- establish guidelines for auto-adjudication, \n",
    "- analyse the financial impact of auto-adjudicationtion, \n",
    "- analyse the value (tangible & intangible) of the project, \n",
    "- provide recommendations."
   ]
  },
  {
   "cell_type": "markdown",
   "metadata": {
    "id": "dn24aH545NrY"
   },
   "source": [
    "# **Executive Summary** \n",
    "\n",
    "The analysis shows that auto-adjudication might yield significant benefits for  the bank:\n",
    "\n",
    "- reduce the mortgages adjudication workload on credit officers by 2/3; \n",
    "- improve accuracy of credit decisions and spot potential defaulting requests in close to 100% cases;\n",
    "- meet the growth challenge in the reverse mortgages space that might continue at the double-digit levels for the coming 5 years; \n",
    "- create close to USD 4 mln of additional shareholder value.\n",
    "\n",
    "Based on these points, our **recommendation** is to consider launching the project in the next 2-3 months to secure a dominant space for the bank in the reverse mortgages market for the coming period of booming growth.\n",
    "\n"
   ]
  },
  {
   "cell_type": "markdown",
   "metadata": {
    "id": "RRaOPTWYisuN"
   },
   "source": [
    "# **Exploratory Data Analysis**\n",
    "\n",
    "This analysis is based on the data provided to us by the bank directly. The data set contains no PI II data and therefore can be processed and stored without encryption. "
   ]
  },
  {
   "cell_type": "code",
   "execution_count": null,
   "metadata": {
    "colab": {
     "base_uri": "https://localhost:8080/"
    },
    "id": "PvKXPzgfhAmR",
    "outputId": "235a7ad9-221d-419f-de32-1d0a15cb0998"
   },
   "outputs": [
    {
     "name": "stdout",
     "output_type": "stream",
     "text": [
      "Drive already mounted at /content/drive; to attempt to forcibly remount, call drive.mount(\"/content/drive\", force_remount=True).\n"
     ]
    }
   ],
   "source": [
    "# Work with google drive \n",
    "\n",
    "from google.colab import drive\n",
    "drive.mount('/content/drive')"
   ]
  },
  {
   "cell_type": "code",
   "execution_count": null,
   "metadata": {
    "colab": {
     "base_uri": "https://localhost:8080/"
    },
    "id": "lAy9AJXqjDkE",
    "outputId": "0145b6a8-8f60-4634-d593-ddfeb3d201d6"
   },
   "outputs": [
    {
     "name": "stderr",
     "output_type": "stream",
     "text": [
      "/usr/local/lib/python3.7/dist-packages/statsmodels/tools/_testing.py:19: FutureWarning: pandas.util.testing is deprecated. Use the functions in the public API at pandas.testing instead.\n",
      "  import pandas.util.testing as tm\n"
     ]
    }
   ],
   "source": [
    "# Load analytical packages \n",
    "\n",
    "import numpy as np\n",
    "import pandas as pd\n",
    "import matplotlib.pyplot as plt\n",
    "import seaborn as sns\n",
    "\n",
    "# Load machine learning packages \n",
    "\n",
    "from sklearn.linear_model import LogisticRegression\n",
    "from sklearn.metrics import recall_score\n",
    "from sklearn.metrics import classification_report\n",
    "from sklearn.metrics import confusion_matrix\n",
    "\n",
    "# Load statistical packages \n",
    "\n",
    "import statsmodels.api as sm\n",
    "\n",
    "np.random.seed(12345)"
   ]
  },
  {
   "cell_type": "code",
   "execution_count": null,
   "metadata": {
    "id": "-aIszNRdjK6j"
   },
   "outputs": [],
   "source": [
    "# Import the excel file and call it xls_file\n",
    "excel_file_1 = pd.ExcelFile('/content/drive/MyDrive/reverse_mortgages/Portfolio_Data_for_case_study.xlsx')\n",
    "   \n",
    "# Load the excel_file's Sheet1 as a dataframe\n",
    "mortgages_data = excel_file_1.parse('2017')"
   ]
  },
  {
   "cell_type": "markdown",
   "metadata": {
    "id": "EaH2cjFCk5h6"
   },
   "source": [
    "**Note:** After importing the data from XLSX format, we parse the sheet (2017) that contains the data we are interested in. Below is a summary of the data presented in the dataset."
   ]
  },
  {
   "cell_type": "code",
   "execution_count": null,
   "metadata": {
    "colab": {
     "base_uri": "https://localhost:8080/"
    },
    "id": "7efFKIjZluPv",
    "outputId": "98c6e3ea-0526-4ecf-a0d6-3c1e5a87354c"
   },
   "outputs": [
    {
     "name": "stdout",
     "output_type": "stream",
     "text": [
      "<class 'pandas.core.frame.DataFrame'>\n",
      "RangeIndex: 3595 entries, 0 to 3594\n",
      "Data columns (total 14 columns):\n",
      " #   Column                    Non-Null Count  Dtype         \n",
      "---  ------                    --------------  -----         \n",
      " 0   File Number               3595 non-null   int64         \n",
      " 1   POA / Influencer          3595 non-null   object        \n",
      " 2   Property Type             3595 non-null   object        \n",
      " 3   City                      3595 non-null   object        \n",
      " 4   Province                  3595 non-null   object        \n",
      " 5   client age3               3590 non-null   float64       \n",
      " 6   Credit Score              3586 non-null   float64       \n",
      " 7   Monthly income            3595 non-null   float64       \n",
      " 8   First Appraisal Date      3595 non-null   datetime64[ns]\n",
      " 9   First Appraisal Value     3595 non-null   int64         \n",
      " 10  Funded Date               3595 non-null   datetime64[ns]\n",
      " 11  Days To Fund              3595 non-null   int64         \n",
      " 12  Total Approved Amount     3595 non-null   float64       \n",
      " 13  Most Recent Default Date  519 non-null    datetime64[ns]\n",
      "dtypes: datetime64[ns](3), float64(4), int64(3), object(4)\n",
      "memory usage: 393.3+ KB\n"
     ]
    }
   ],
   "source": [
    "# Check the info \n",
    "\n",
    "mortgages_data.info()"
   ]
  },
  {
   "cell_type": "markdown",
   "metadata": {
    "id": "WLZUE85Kl1ZF"
   },
   "source": [
    "As the summary above shows, we deal with 3595 rows of data split into 14 columns. \n",
    "\n",
    "Below is a preview of the dataset."
   ]
  },
  {
   "cell_type": "code",
   "execution_count": null,
   "metadata": {
    "colab": {
     "base_uri": "https://localhost:8080/",
     "height": 389
    },
    "id": "6bX6M6PflGeM",
    "outputId": "6273e5d3-521b-4c9b-c3c9-c9ce6afb685c"
   },
   "outputs": [
    {
     "data": {
      "text/html": [
       "\n",
       "  <div id=\"df-76d4013f-8135-42c2-b9c2-bcb36b3bff03\">\n",
       "    <div class=\"colab-df-container\">\n",
       "      <div>\n",
       "<style scoped>\n",
       "    .dataframe tbody tr th:only-of-type {\n",
       "        vertical-align: middle;\n",
       "    }\n",
       "\n",
       "    .dataframe tbody tr th {\n",
       "        vertical-align: top;\n",
       "    }\n",
       "\n",
       "    .dataframe thead th {\n",
       "        text-align: right;\n",
       "    }\n",
       "</style>\n",
       "<table border=\"1\" class=\"dataframe\">\n",
       "  <thead>\n",
       "    <tr style=\"text-align: right;\">\n",
       "      <th></th>\n",
       "      <th>File Number</th>\n",
       "      <th>POA / Influencer</th>\n",
       "      <th>Property Type</th>\n",
       "      <th>City</th>\n",
       "      <th>Province</th>\n",
       "      <th>client age3</th>\n",
       "      <th>Credit Score</th>\n",
       "      <th>Monthly income</th>\n",
       "      <th>First Appraisal Date</th>\n",
       "      <th>First Appraisal Value</th>\n",
       "      <th>Funded Date</th>\n",
       "      <th>Days To Fund</th>\n",
       "      <th>Total Approved Amount</th>\n",
       "      <th>Most Recent Default Date</th>\n",
       "    </tr>\n",
       "  </thead>\n",
       "  <tbody>\n",
       "    <tr>\n",
       "      <th>0</th>\n",
       "      <td>2223</td>\n",
       "      <td>No</td>\n",
       "      <td>Detached Duplex, Triplex, or Quadruplex</td>\n",
       "      <td>Ottawa</td>\n",
       "      <td>Ontario</td>\n",
       "      <td>64.228571</td>\n",
       "      <td>782.0</td>\n",
       "      <td>1800.0</td>\n",
       "      <td>2017-11-02</td>\n",
       "      <td>435000</td>\n",
       "      <td>2017-11-24</td>\n",
       "      <td>13</td>\n",
       "      <td>108750.0</td>\n",
       "      <td>NaT</td>\n",
       "    </tr>\n",
       "    <tr>\n",
       "      <th>1</th>\n",
       "      <td>2224</td>\n",
       "      <td>No</td>\n",
       "      <td>Single Family Dwelling</td>\n",
       "      <td>Virden</td>\n",
       "      <td>Manitoba</td>\n",
       "      <td>64.000000</td>\n",
       "      <td>683.0</td>\n",
       "      <td>2400.0</td>\n",
       "      <td>2017-10-30</td>\n",
       "      <td>315000</td>\n",
       "      <td>2017-12-18</td>\n",
       "      <td>40</td>\n",
       "      <td>78750.0</td>\n",
       "      <td>NaT</td>\n",
       "    </tr>\n",
       "    <tr>\n",
       "      <th>2</th>\n",
       "      <td>2225</td>\n",
       "      <td>No</td>\n",
       "      <td>Single Family Dwelling</td>\n",
       "      <td>Keswick</td>\n",
       "      <td>Ontario</td>\n",
       "      <td>64.000000</td>\n",
       "      <td>816.0</td>\n",
       "      <td>2500.0</td>\n",
       "      <td>2017-11-09</td>\n",
       "      <td>990000</td>\n",
       "      <td>2017-12-01</td>\n",
       "      <td>36</td>\n",
       "      <td>247500.0</td>\n",
       "      <td>NaT</td>\n",
       "    </tr>\n",
       "    <tr>\n",
       "      <th>3</th>\n",
       "      <td>2226</td>\n",
       "      <td>Yes</td>\n",
       "      <td>Condo - Townhouse/Stacked Townhouse</td>\n",
       "      <td>Langley</td>\n",
       "      <td>British Columbia</td>\n",
       "      <td>89.264368</td>\n",
       "      <td>759.0</td>\n",
       "      <td>2778.0</td>\n",
       "      <td>2017-12-06</td>\n",
       "      <td>588000</td>\n",
       "      <td>2017-12-21</td>\n",
       "      <td>27</td>\n",
       "      <td>147000.0</td>\n",
       "      <td>2019-03-27</td>\n",
       "    </tr>\n",
       "    <tr>\n",
       "      <th>4</th>\n",
       "      <td>2227</td>\n",
       "      <td>No</td>\n",
       "      <td>Single Family Dwelling</td>\n",
       "      <td>Westbank</td>\n",
       "      <td>British Columbia</td>\n",
       "      <td>64.228571</td>\n",
       "      <td>0.0</td>\n",
       "      <td>7337.0</td>\n",
       "      <td>2016-12-22</td>\n",
       "      <td>460000</td>\n",
       "      <td>2017-02-15</td>\n",
       "      <td>56</td>\n",
       "      <td>115000.0</td>\n",
       "      <td>NaT</td>\n",
       "    </tr>\n",
       "  </tbody>\n",
       "</table>\n",
       "</div>\n",
       "      <button class=\"colab-df-convert\" onclick=\"convertToInteractive('df-76d4013f-8135-42c2-b9c2-bcb36b3bff03')\"\n",
       "              title=\"Convert this dataframe to an interactive table.\"\n",
       "              style=\"display:none;\">\n",
       "        \n",
       "  <svg xmlns=\"http://www.w3.org/2000/svg\" height=\"24px\"viewBox=\"0 0 24 24\"\n",
       "       width=\"24px\">\n",
       "    <path d=\"M0 0h24v24H0V0z\" fill=\"none\"/>\n",
       "    <path d=\"M18.56 5.44l.94 2.06.94-2.06 2.06-.94-2.06-.94-.94-2.06-.94 2.06-2.06.94zm-11 1L8.5 8.5l.94-2.06 2.06-.94-2.06-.94L8.5 2.5l-.94 2.06-2.06.94zm10 10l.94 2.06.94-2.06 2.06-.94-2.06-.94-.94-2.06-.94 2.06-2.06.94z\"/><path d=\"M17.41 7.96l-1.37-1.37c-.4-.4-.92-.59-1.43-.59-.52 0-1.04.2-1.43.59L10.3 9.45l-7.72 7.72c-.78.78-.78 2.05 0 2.83L4 21.41c.39.39.9.59 1.41.59.51 0 1.02-.2 1.41-.59l7.78-7.78 2.81-2.81c.8-.78.8-2.07 0-2.86zM5.41 20L4 18.59l7.72-7.72 1.47 1.35L5.41 20z\"/>\n",
       "  </svg>\n",
       "      </button>\n",
       "      \n",
       "  <style>\n",
       "    .colab-df-container {\n",
       "      display:flex;\n",
       "      flex-wrap:wrap;\n",
       "      gap: 12px;\n",
       "    }\n",
       "\n",
       "    .colab-df-convert {\n",
       "      background-color: #E8F0FE;\n",
       "      border: none;\n",
       "      border-radius: 50%;\n",
       "      cursor: pointer;\n",
       "      display: none;\n",
       "      fill: #1967D2;\n",
       "      height: 32px;\n",
       "      padding: 0 0 0 0;\n",
       "      width: 32px;\n",
       "    }\n",
       "\n",
       "    .colab-df-convert:hover {\n",
       "      background-color: #E2EBFA;\n",
       "      box-shadow: 0px 1px 2px rgba(60, 64, 67, 0.3), 0px 1px 3px 1px rgba(60, 64, 67, 0.15);\n",
       "      fill: #174EA6;\n",
       "    }\n",
       "\n",
       "    [theme=dark] .colab-df-convert {\n",
       "      background-color: #3B4455;\n",
       "      fill: #D2E3FC;\n",
       "    }\n",
       "\n",
       "    [theme=dark] .colab-df-convert:hover {\n",
       "      background-color: #434B5C;\n",
       "      box-shadow: 0px 1px 3px 1px rgba(0, 0, 0, 0.15);\n",
       "      filter: drop-shadow(0px 1px 2px rgba(0, 0, 0, 0.3));\n",
       "      fill: #FFFFFF;\n",
       "    }\n",
       "  </style>\n",
       "\n",
       "      <script>\n",
       "        const buttonEl =\n",
       "          document.querySelector('#df-76d4013f-8135-42c2-b9c2-bcb36b3bff03 button.colab-df-convert');\n",
       "        buttonEl.style.display =\n",
       "          google.colab.kernel.accessAllowed ? 'block' : 'none';\n",
       "\n",
       "        async function convertToInteractive(key) {\n",
       "          const element = document.querySelector('#df-76d4013f-8135-42c2-b9c2-bcb36b3bff03');\n",
       "          const dataTable =\n",
       "            await google.colab.kernel.invokeFunction('convertToInteractive',\n",
       "                                                     [key], {});\n",
       "          if (!dataTable) return;\n",
       "\n",
       "          const docLinkHtml = 'Like what you see? Visit the ' +\n",
       "            '<a target=\"_blank\" href=https://colab.research.google.com/notebooks/data_table.ipynb>data table notebook</a>'\n",
       "            + ' to learn more about interactive tables.';\n",
       "          element.innerHTML = '';\n",
       "          dataTable['output_type'] = 'display_data';\n",
       "          await google.colab.output.renderOutput(dataTable, element);\n",
       "          const docLink = document.createElement('div');\n",
       "          docLink.innerHTML = docLinkHtml;\n",
       "          element.appendChild(docLink);\n",
       "        }\n",
       "      </script>\n",
       "    </div>\n",
       "  </div>\n",
       "  "
      ],
      "text/plain": [
       "   File Number POA / Influencer  ... Total Approved Amount Most Recent Default Date\n",
       "0         2223               No  ...              108750.0                      NaT\n",
       "1         2224               No  ...               78750.0                      NaT\n",
       "2         2225               No  ...              247500.0                      NaT\n",
       "3         2226              Yes  ...              147000.0               2019-03-27\n",
       "4         2227               No  ...              115000.0                      NaT\n",
       "\n",
       "[5 rows x 14 columns]"
      ]
     },
     "execution_count": 5,
     "metadata": {},
     "output_type": "execute_result"
    }
   ],
   "source": [
    "# Preview the dataset \n",
    "\n",
    "mortgages_data.head(5)"
   ]
  },
  {
   "cell_type": "markdown",
   "metadata": {
    "id": "iQu6r6YXlOuy"
   },
   "source": [
    "At this point, we should examine the dataset to identify any potential problems with it, such as missing or duplicate values."
   ]
  },
  {
   "cell_type": "code",
   "execution_count": null,
   "metadata": {
    "colab": {
     "base_uri": "https://localhost:8080/"
    },
    "id": "HROzZM4LlXX_",
    "outputId": "95d4fba3-69c7-441d-8c23-12f7a5f2bcbd"
   },
   "outputs": [
    {
     "name": "stdout",
     "output_type": "stream",
     "text": [
      "The dataset contains 0 duplicated values.\n"
     ]
    }
   ],
   "source": [
    "# Show a sum of duplicates in the dataset\n",
    "\n",
    "print(f'The dataset contains {mortgages_data.duplicated(keep=False).sum()} duplicated values.')"
   ]
  },
  {
   "cell_type": "markdown",
   "metadata": {
    "id": "Yaqytqpllf_6"
   },
   "source": [
    "As the report above reads, the dataset contains 0 duplicated values."
   ]
  },
  {
   "cell_type": "code",
   "execution_count": null,
   "metadata": {
    "id": "_VEGyf3Eli-b"
   },
   "outputs": [],
   "source": [
    "# Write a function to check for missing values\n",
    "\n",
    "def nan_checker(data_set): \n",
    "\n",
    "    summary = {}\n",
    "    # are there any nan values?\n",
    "    any_nans = data_set.isna().any().any()\n",
    "    \n",
    "    summary['NaNs Exist'] = any_nans\n",
    "    \n",
    "    # how many?\n",
    "    n_nans = data_set.isna().sum().sum()\n",
    "    summary['NaN Count'] = n_nans\n",
    "    \n",
    "    # which variables do they come from\n",
    "    nan_column_series = data_set.isna().sum()\n",
    "    nan_column_names = list(nan_column_series[nan_column_series > 0].index)\n",
    "    \n",
    "    summary['NaN Containing Columns'] = nan_column_names\n",
    "    \n",
    "    \n",
    "    # any variables with more than 50% of data missing?\n",
    "    nan_column_percent = 100 * nan_column_series/data_set.shape[0]\n",
    "    nan_columns_with_more_than_50_pct = list(nan_column_percent[nan_column_percent > 50].index)\n",
    "    \n",
    "    summary['NaNs More Than 50%'] = nan_columns_with_more_than_50_pct\n",
    "    \n",
    "    #summary can be all the info about nans\n",
    "    return(summary)"
   ]
  },
  {
   "cell_type": "markdown",
   "metadata": {
    "id": "yaXPcNC__I0Q"
   },
   "source": [
    "Let's execute the above function to check for missing values."
   ]
  },
  {
   "cell_type": "code",
   "execution_count": null,
   "metadata": {
    "colab": {
     "base_uri": "https://localhost:8080/"
    },
    "id": "-2uIjy9wmerC",
    "outputId": "95d17ed0-c5aa-448d-c5b4-69e3c311bde5"
   },
   "outputs": [
    {
     "data": {
      "text/plain": [
       "{'NaN Containing Columns': ['client age3',\n",
       "  'Credit Score',\n",
       "  'Most Recent Default Date'],\n",
       " 'NaN Count': 3090,\n",
       " 'NaNs Exist': True,\n",
       " 'NaNs More Than 50%': ['Most Recent Default Date']}"
      ]
     },
     "execution_count": 8,
     "metadata": {},
     "output_type": "execute_result"
    }
   ],
   "source": [
    "# Run the function to check missing values \n",
    "\n",
    "nan_checker(mortgages_data)"
   ]
  },
  {
   "cell_type": "markdown",
   "metadata": {
    "id": "0Q1DOX0JmibZ"
   },
   "source": [
    "**Observation:** As expected, we only have missing values in the columns related to the client age, credit score and the most recent default date. In total, there are 3090 missing values. \n",
    "\n",
    "Let's count the missing values in the mentioned columns separately. \n",
    "\n",
    "For that, we should create a report that would reflect the count of missing values for each column, the name of the column and the data type."
   ]
  },
  {
   "cell_type": "code",
   "execution_count": null,
   "metadata": {
    "id": "FSryaVnHnPej"
   },
   "outputs": [],
   "source": [
    "# Create a report that shows the count of missing values for each column\n",
    "\n",
    "def missing_values_report_mortgages():\n",
    "\n",
    "  # create a list of columns with missing values \n",
    "\n",
    "    list_missing = list(mortgages_data.isnull().sum()[mortgages_data.isnull().sum() != 0].index)\n",
    "\n",
    "# create a dictionary containing the names and the description of columns with missing values \n",
    "\n",
    "    dict_descr = {            'name_column': [\n",
    "                              \"File Number             \",\n",
    "                              \"POA / Influencer        \",\n",
    "                              \"Property Type           \",\n",
    "                              \"City                    \",\n",
    "                              \"Province                \",\n",
    "                              \"client age3             \",\n",
    "                              \"Credit Score            \",\n",
    "                              \"Monthly income          \",\n",
    "                              \"First Appraisal Date    \",\n",
    "                              \"First Appraisal Value   \",\n",
    "                              \"Funded Date             \",\n",
    "                              \"Days To Fund            \",\n",
    "                              \"Total Approved Amount   \",\n",
    "                              \"Most Recent Default Date\"]}\n",
    "    name_column = []\n",
    "    data_type = []\n",
    "    mis_vals_count = []\n",
    "\n",
    "    for column in list_missing:\n",
    "      if mortgages_data[column].isnull().sum() > 0:\n",
    "        name_column.append(column)\n",
    "        data_type.append(mortgages_data[column].dtype) \n",
    "        mis_vals_count.append(mortgages_data[column].isnull().sum())\n",
    "\n",
    "    null_dtypes_val_mortgages_data = pd.DataFrame(data=list(zip(name_column, data_type, mis_vals_count)), columns=['name_column', 'data_type', 'mis_vals_count'])\n",
    "\n",
    "    from operator import index\n",
    "    dict_df = pd.DataFrame.from_dict(dict_descr)\n",
    "    null_dtypes_val_mortgages_data = null_dtypes_val_mortgages_data.merge(dict_df, on = 'name_column', how = 'left')\n",
    "    return(null_dtypes_val_mortgages_data)"
   ]
  },
  {
   "cell_type": "markdown",
   "metadata": {
    "id": "drcbVWna_ruX"
   },
   "source": [
    "Now that the reporting function has been created and back-tested, we can use it to run a report on our actual data."
   ]
  },
  {
   "cell_type": "code",
   "execution_count": null,
   "metadata": {
    "colab": {
     "base_uri": "https://localhost:8080/",
     "height": 144
    },
    "id": "7lTkr-R2pUWa",
    "outputId": "df5ea7ba-9fea-4c3f-ca06-ba97fdf1bffe"
   },
   "outputs": [
    {
     "data": {
      "text/html": [
       "\n",
       "  <div id=\"df-049ea47a-1aaf-4197-8d1d-9c6b70880023\">\n",
       "    <div class=\"colab-df-container\">\n",
       "      <div>\n",
       "<style scoped>\n",
       "    .dataframe tbody tr th:only-of-type {\n",
       "        vertical-align: middle;\n",
       "    }\n",
       "\n",
       "    .dataframe tbody tr th {\n",
       "        vertical-align: top;\n",
       "    }\n",
       "\n",
       "    .dataframe thead th {\n",
       "        text-align: right;\n",
       "    }\n",
       "</style>\n",
       "<table border=\"1\" class=\"dataframe\">\n",
       "  <thead>\n",
       "    <tr style=\"text-align: right;\">\n",
       "      <th></th>\n",
       "      <th>name_column</th>\n",
       "      <th>data_type</th>\n",
       "      <th>mis_vals_count</th>\n",
       "    </tr>\n",
       "  </thead>\n",
       "  <tbody>\n",
       "    <tr>\n",
       "      <th>0</th>\n",
       "      <td>client age3</td>\n",
       "      <td>float64</td>\n",
       "      <td>5</td>\n",
       "    </tr>\n",
       "    <tr>\n",
       "      <th>1</th>\n",
       "      <td>Credit Score</td>\n",
       "      <td>float64</td>\n",
       "      <td>9</td>\n",
       "    </tr>\n",
       "    <tr>\n",
       "      <th>2</th>\n",
       "      <td>Most Recent Default Date</td>\n",
       "      <td>datetime64[ns]</td>\n",
       "      <td>3076</td>\n",
       "    </tr>\n",
       "  </tbody>\n",
       "</table>\n",
       "</div>\n",
       "      <button class=\"colab-df-convert\" onclick=\"convertToInteractive('df-049ea47a-1aaf-4197-8d1d-9c6b70880023')\"\n",
       "              title=\"Convert this dataframe to an interactive table.\"\n",
       "              style=\"display:none;\">\n",
       "        \n",
       "  <svg xmlns=\"http://www.w3.org/2000/svg\" height=\"24px\"viewBox=\"0 0 24 24\"\n",
       "       width=\"24px\">\n",
       "    <path d=\"M0 0h24v24H0V0z\" fill=\"none\"/>\n",
       "    <path d=\"M18.56 5.44l.94 2.06.94-2.06 2.06-.94-2.06-.94-.94-2.06-.94 2.06-2.06.94zm-11 1L8.5 8.5l.94-2.06 2.06-.94-2.06-.94L8.5 2.5l-.94 2.06-2.06.94zm10 10l.94 2.06.94-2.06 2.06-.94-2.06-.94-.94-2.06-.94 2.06-2.06.94z\"/><path d=\"M17.41 7.96l-1.37-1.37c-.4-.4-.92-.59-1.43-.59-.52 0-1.04.2-1.43.59L10.3 9.45l-7.72 7.72c-.78.78-.78 2.05 0 2.83L4 21.41c.39.39.9.59 1.41.59.51 0 1.02-.2 1.41-.59l7.78-7.78 2.81-2.81c.8-.78.8-2.07 0-2.86zM5.41 20L4 18.59l7.72-7.72 1.47 1.35L5.41 20z\"/>\n",
       "  </svg>\n",
       "      </button>\n",
       "      \n",
       "  <style>\n",
       "    .colab-df-container {\n",
       "      display:flex;\n",
       "      flex-wrap:wrap;\n",
       "      gap: 12px;\n",
       "    }\n",
       "\n",
       "    .colab-df-convert {\n",
       "      background-color: #E8F0FE;\n",
       "      border: none;\n",
       "      border-radius: 50%;\n",
       "      cursor: pointer;\n",
       "      display: none;\n",
       "      fill: #1967D2;\n",
       "      height: 32px;\n",
       "      padding: 0 0 0 0;\n",
       "      width: 32px;\n",
       "    }\n",
       "\n",
       "    .colab-df-convert:hover {\n",
       "      background-color: #E2EBFA;\n",
       "      box-shadow: 0px 1px 2px rgba(60, 64, 67, 0.3), 0px 1px 3px 1px rgba(60, 64, 67, 0.15);\n",
       "      fill: #174EA6;\n",
       "    }\n",
       "\n",
       "    [theme=dark] .colab-df-convert {\n",
       "      background-color: #3B4455;\n",
       "      fill: #D2E3FC;\n",
       "    }\n",
       "\n",
       "    [theme=dark] .colab-df-convert:hover {\n",
       "      background-color: #434B5C;\n",
       "      box-shadow: 0px 1px 3px 1px rgba(0, 0, 0, 0.15);\n",
       "      filter: drop-shadow(0px 1px 2px rgba(0, 0, 0, 0.3));\n",
       "      fill: #FFFFFF;\n",
       "    }\n",
       "  </style>\n",
       "\n",
       "      <script>\n",
       "        const buttonEl =\n",
       "          document.querySelector('#df-049ea47a-1aaf-4197-8d1d-9c6b70880023 button.colab-df-convert');\n",
       "        buttonEl.style.display =\n",
       "          google.colab.kernel.accessAllowed ? 'block' : 'none';\n",
       "\n",
       "        async function convertToInteractive(key) {\n",
       "          const element = document.querySelector('#df-049ea47a-1aaf-4197-8d1d-9c6b70880023');\n",
       "          const dataTable =\n",
       "            await google.colab.kernel.invokeFunction('convertToInteractive',\n",
       "                                                     [key], {});\n",
       "          if (!dataTable) return;\n",
       "\n",
       "          const docLinkHtml = 'Like what you see? Visit the ' +\n",
       "            '<a target=\"_blank\" href=https://colab.research.google.com/notebooks/data_table.ipynb>data table notebook</a>'\n",
       "            + ' to learn more about interactive tables.';\n",
       "          element.innerHTML = '';\n",
       "          dataTable['output_type'] = 'display_data';\n",
       "          await google.colab.output.renderOutput(dataTable, element);\n",
       "          const docLink = document.createElement('div');\n",
       "          docLink.innerHTML = docLinkHtml;\n",
       "          element.appendChild(docLink);\n",
       "        }\n",
       "      </script>\n",
       "    </div>\n",
       "  </div>\n",
       "  "
      ],
      "text/plain": [
       "                name_column       data_type  mis_vals_count\n",
       "0               client age3         float64               5\n",
       "1              Credit Score         float64               9\n",
       "2  Most Recent Default Date  datetime64[ns]            3076"
      ]
     },
     "execution_count": 10,
     "metadata": {},
     "output_type": "execute_result"
    }
   ],
   "source": [
    "# Show the report reflecting the count of missing values, the name of the columnn and the data type\n",
    "\n",
    "missing_values_report_mortgages()"
   ]
  },
  {
   "cell_type": "markdown",
   "metadata": {
    "id": "FYVt5Qo2ATXu"
   },
   "source": [
    "# **Handling the missing values**"
   ]
  },
  {
   "cell_type": "markdown",
   "metadata": {
    "id": "ebKR-C7GriN2"
   },
   "source": [
    "**Age:** the number of missing values in the client age column is small, therefore we can impute data using the median of the client age, because it will fit the decimal format of the rest of the values in this column."
   ]
  },
  {
   "cell_type": "code",
   "execution_count": null,
   "metadata": {
    "id": "j7a1fiMYq7qt"
   },
   "outputs": [],
   "source": [
    "# Impute the age values \n",
    "\n",
    "mortgages_data['client age3'] = mortgages_data['client age3'].fillna(mortgages_data['client age3'].median())"
   ]
  },
  {
   "cell_type": "markdown",
   "metadata": {
    "id": "SPgwg3EhybFz"
   },
   "source": [
    "**Credit Score:** To understand how we should treat the missing credit score values, we will isolate the rows containing those values and examine them visually."
   ]
  },
  {
   "cell_type": "code",
   "execution_count": null,
   "metadata": {
    "colab": {
     "base_uri": "https://localhost:8080/",
     "height": 584
    },
    "id": "8jZs48RBA7FV",
    "outputId": "e0d22934-a6ef-4588-d711-29017028279b"
   },
   "outputs": [
    {
     "data": {
      "text/html": [
       "\n",
       "  <div id=\"df-7e710bf2-6c25-405d-baef-d41d357c3b75\">\n",
       "    <div class=\"colab-df-container\">\n",
       "      <div>\n",
       "<style scoped>\n",
       "    .dataframe tbody tr th:only-of-type {\n",
       "        vertical-align: middle;\n",
       "    }\n",
       "\n",
       "    .dataframe tbody tr th {\n",
       "        vertical-align: top;\n",
       "    }\n",
       "\n",
       "    .dataframe thead th {\n",
       "        text-align: right;\n",
       "    }\n",
       "</style>\n",
       "<table border=\"1\" class=\"dataframe\">\n",
       "  <thead>\n",
       "    <tr style=\"text-align: right;\">\n",
       "      <th></th>\n",
       "      <th>File Number</th>\n",
       "      <th>POA / Influencer</th>\n",
       "      <th>Property Type</th>\n",
       "      <th>City</th>\n",
       "      <th>Province</th>\n",
       "      <th>client age3</th>\n",
       "      <th>Credit Score</th>\n",
       "      <th>Monthly income</th>\n",
       "      <th>First Appraisal Date</th>\n",
       "      <th>First Appraisal Value</th>\n",
       "      <th>Funded Date</th>\n",
       "      <th>Days To Fund</th>\n",
       "      <th>Total Approved Amount</th>\n",
       "      <th>Most Recent Default Date</th>\n",
       "    </tr>\n",
       "  </thead>\n",
       "  <tbody>\n",
       "    <tr>\n",
       "      <th>195</th>\n",
       "      <td>2418</td>\n",
       "      <td>No</td>\n",
       "      <td>Condo - Apartment Style</td>\n",
       "      <td>Vancouver</td>\n",
       "      <td>British Columbia</td>\n",
       "      <td>81.649351</td>\n",
       "      <td>NaN</td>\n",
       "      <td>1800.0</td>\n",
       "      <td>2017-05-17</td>\n",
       "      <td>2198000</td>\n",
       "      <td>2017-06-29</td>\n",
       "      <td>35</td>\n",
       "      <td>549500.0</td>\n",
       "      <td>NaT</td>\n",
       "    </tr>\n",
       "    <tr>\n",
       "      <th>530</th>\n",
       "      <td>2753</td>\n",
       "      <td>No</td>\n",
       "      <td>Single Family Dwelling</td>\n",
       "      <td>Richmond Hill</td>\n",
       "      <td>Ontario</td>\n",
       "      <td>91.603448</td>\n",
       "      <td>NaN</td>\n",
       "      <td>1800.0</td>\n",
       "      <td>2016-09-28</td>\n",
       "      <td>1025000</td>\n",
       "      <td>2017-03-09</td>\n",
       "      <td>114</td>\n",
       "      <td>256250.0</td>\n",
       "      <td>NaT</td>\n",
       "    </tr>\n",
       "    <tr>\n",
       "      <th>587</th>\n",
       "      <td>2810</td>\n",
       "      <td>No</td>\n",
       "      <td>Single Family Dwelling</td>\n",
       "      <td>Toronto</td>\n",
       "      <td>Ontario</td>\n",
       "      <td>87.205298</td>\n",
       "      <td>NaN</td>\n",
       "      <td>1800.0</td>\n",
       "      <td>2017-04-15</td>\n",
       "      <td>685000</td>\n",
       "      <td>2017-05-03</td>\n",
       "      <td>142</td>\n",
       "      <td>171250.0</td>\n",
       "      <td>NaT</td>\n",
       "    </tr>\n",
       "    <tr>\n",
       "      <th>712</th>\n",
       "      <td>2935</td>\n",
       "      <td>No</td>\n",
       "      <td>Stratified SFD/Bare Land Strata</td>\n",
       "      <td>Mississauga</td>\n",
       "      <td>Ontario</td>\n",
       "      <td>75.480370</td>\n",
       "      <td>NaN</td>\n",
       "      <td>0.0</td>\n",
       "      <td>2016-10-28</td>\n",
       "      <td>460000</td>\n",
       "      <td>2017-02-03</td>\n",
       "      <td>55</td>\n",
       "      <td>115000.0</td>\n",
       "      <td>NaT</td>\n",
       "    </tr>\n",
       "    <tr>\n",
       "      <th>1110</th>\n",
       "      <td>3333</td>\n",
       "      <td>No</td>\n",
       "      <td>Single Family Dwelling</td>\n",
       "      <td>King City</td>\n",
       "      <td>Ontario</td>\n",
       "      <td>71.902240</td>\n",
       "      <td>NaN</td>\n",
       "      <td>1800.0</td>\n",
       "      <td>2017-07-11</td>\n",
       "      <td>3750000</td>\n",
       "      <td>2017-08-01</td>\n",
       "      <td>185</td>\n",
       "      <td>937500.0</td>\n",
       "      <td>NaT</td>\n",
       "    </tr>\n",
       "    <tr>\n",
       "      <th>2146</th>\n",
       "      <td>4369</td>\n",
       "      <td>No</td>\n",
       "      <td>Single Family Dwelling</td>\n",
       "      <td>Markham</td>\n",
       "      <td>Ontario</td>\n",
       "      <td>71.902240</td>\n",
       "      <td>NaN</td>\n",
       "      <td>1800.0</td>\n",
       "      <td>2016-11-02</td>\n",
       "      <td>1220000</td>\n",
       "      <td>2017-01-06</td>\n",
       "      <td>80</td>\n",
       "      <td>305000.0</td>\n",
       "      <td>NaT</td>\n",
       "    </tr>\n",
       "    <tr>\n",
       "      <th>2225</th>\n",
       "      <td>4448</td>\n",
       "      <td>No</td>\n",
       "      <td>Single Family Dwelling</td>\n",
       "      <td>Port Dover</td>\n",
       "      <td>Ontario</td>\n",
       "      <td>75.480370</td>\n",
       "      <td>NaN</td>\n",
       "      <td>1800.0</td>\n",
       "      <td>2016-12-23</td>\n",
       "      <td>936000</td>\n",
       "      <td>2017-06-16</td>\n",
       "      <td>155</td>\n",
       "      <td>234000.0</td>\n",
       "      <td>NaT</td>\n",
       "    </tr>\n",
       "    <tr>\n",
       "      <th>2492</th>\n",
       "      <td>4715</td>\n",
       "      <td>No</td>\n",
       "      <td>Single Family Dwelling</td>\n",
       "      <td>New Ross</td>\n",
       "      <td>Nova Scotia</td>\n",
       "      <td>68.546939</td>\n",
       "      <td>NaN</td>\n",
       "      <td>1800.0</td>\n",
       "      <td>2017-05-10</td>\n",
       "      <td>126000</td>\n",
       "      <td>2017-05-30</td>\n",
       "      <td>15</td>\n",
       "      <td>31500.0</td>\n",
       "      <td>NaT</td>\n",
       "    </tr>\n",
       "    <tr>\n",
       "      <th>3471</th>\n",
       "      <td>5694</td>\n",
       "      <td>No</td>\n",
       "      <td>Single Family Dwelling</td>\n",
       "      <td>Kleinburg</td>\n",
       "      <td>Ontario</td>\n",
       "      <td>84.014851</td>\n",
       "      <td>NaN</td>\n",
       "      <td>1800.0</td>\n",
       "      <td>2017-05-02</td>\n",
       "      <td>2400000</td>\n",
       "      <td>2017-08-02</td>\n",
       "      <td>226</td>\n",
       "      <td>600000.0</td>\n",
       "      <td>NaT</td>\n",
       "    </tr>\n",
       "  </tbody>\n",
       "</table>\n",
       "</div>\n",
       "      <button class=\"colab-df-convert\" onclick=\"convertToInteractive('df-7e710bf2-6c25-405d-baef-d41d357c3b75')\"\n",
       "              title=\"Convert this dataframe to an interactive table.\"\n",
       "              style=\"display:none;\">\n",
       "        \n",
       "  <svg xmlns=\"http://www.w3.org/2000/svg\" height=\"24px\"viewBox=\"0 0 24 24\"\n",
       "       width=\"24px\">\n",
       "    <path d=\"M0 0h24v24H0V0z\" fill=\"none\"/>\n",
       "    <path d=\"M18.56 5.44l.94 2.06.94-2.06 2.06-.94-2.06-.94-.94-2.06-.94 2.06-2.06.94zm-11 1L8.5 8.5l.94-2.06 2.06-.94-2.06-.94L8.5 2.5l-.94 2.06-2.06.94zm10 10l.94 2.06.94-2.06 2.06-.94-2.06-.94-.94-2.06-.94 2.06-2.06.94z\"/><path d=\"M17.41 7.96l-1.37-1.37c-.4-.4-.92-.59-1.43-.59-.52 0-1.04.2-1.43.59L10.3 9.45l-7.72 7.72c-.78.78-.78 2.05 0 2.83L4 21.41c.39.39.9.59 1.41.59.51 0 1.02-.2 1.41-.59l7.78-7.78 2.81-2.81c.8-.78.8-2.07 0-2.86zM5.41 20L4 18.59l7.72-7.72 1.47 1.35L5.41 20z\"/>\n",
       "  </svg>\n",
       "      </button>\n",
       "      \n",
       "  <style>\n",
       "    .colab-df-container {\n",
       "      display:flex;\n",
       "      flex-wrap:wrap;\n",
       "      gap: 12px;\n",
       "    }\n",
       "\n",
       "    .colab-df-convert {\n",
       "      background-color: #E8F0FE;\n",
       "      border: none;\n",
       "      border-radius: 50%;\n",
       "      cursor: pointer;\n",
       "      display: none;\n",
       "      fill: #1967D2;\n",
       "      height: 32px;\n",
       "      padding: 0 0 0 0;\n",
       "      width: 32px;\n",
       "    }\n",
       "\n",
       "    .colab-df-convert:hover {\n",
       "      background-color: #E2EBFA;\n",
       "      box-shadow: 0px 1px 2px rgba(60, 64, 67, 0.3), 0px 1px 3px 1px rgba(60, 64, 67, 0.15);\n",
       "      fill: #174EA6;\n",
       "    }\n",
       "\n",
       "    [theme=dark] .colab-df-convert {\n",
       "      background-color: #3B4455;\n",
       "      fill: #D2E3FC;\n",
       "    }\n",
       "\n",
       "    [theme=dark] .colab-df-convert:hover {\n",
       "      background-color: #434B5C;\n",
       "      box-shadow: 0px 1px 3px 1px rgba(0, 0, 0, 0.15);\n",
       "      filter: drop-shadow(0px 1px 2px rgba(0, 0, 0, 0.3));\n",
       "      fill: #FFFFFF;\n",
       "    }\n",
       "  </style>\n",
       "\n",
       "      <script>\n",
       "        const buttonEl =\n",
       "          document.querySelector('#df-7e710bf2-6c25-405d-baef-d41d357c3b75 button.colab-df-convert');\n",
       "        buttonEl.style.display =\n",
       "          google.colab.kernel.accessAllowed ? 'block' : 'none';\n",
       "\n",
       "        async function convertToInteractive(key) {\n",
       "          const element = document.querySelector('#df-7e710bf2-6c25-405d-baef-d41d357c3b75');\n",
       "          const dataTable =\n",
       "            await google.colab.kernel.invokeFunction('convertToInteractive',\n",
       "                                                     [key], {});\n",
       "          if (!dataTable) return;\n",
       "\n",
       "          const docLinkHtml = 'Like what you see? Visit the ' +\n",
       "            '<a target=\"_blank\" href=https://colab.research.google.com/notebooks/data_table.ipynb>data table notebook</a>'\n",
       "            + ' to learn more about interactive tables.';\n",
       "          element.innerHTML = '';\n",
       "          dataTable['output_type'] = 'display_data';\n",
       "          await google.colab.output.renderOutput(dataTable, element);\n",
       "          const docLink = document.createElement('div');\n",
       "          docLink.innerHTML = docLinkHtml;\n",
       "          element.appendChild(docLink);\n",
       "        }\n",
       "      </script>\n",
       "    </div>\n",
       "  </div>\n",
       "  "
      ],
      "text/plain": [
       "      File Number  ... Most Recent Default Date\n",
       "195          2418  ...                      NaT\n",
       "530          2753  ...                      NaT\n",
       "587          2810  ...                      NaT\n",
       "712          2935  ...                      NaT\n",
       "1110         3333  ...                      NaT\n",
       "2146         4369  ...                      NaT\n",
       "2225         4448  ...                      NaT\n",
       "2492         4715  ...                      NaT\n",
       "3471         5694  ...                      NaT\n",
       "\n",
       "[9 rows x 14 columns]"
      ]
     },
     "execution_count": 12,
     "metadata": {},
     "output_type": "execute_result"
    }
   ],
   "source": [
    "# Isolate the rows of the dataset in which Credit Score is missing\n",
    "\n",
    "mortgages_data[mortgages_data['Credit Score'].isnull()]"
   ]
  },
  {
   "cell_type": "markdown",
   "metadata": {
    "id": "WIZ1ndFm11lc"
   },
   "source": [
    "Based on the above, we cannot say whether the credit score is missing because they have no credit (which is unlikely given the senior age and the ownership of real estate), or their credit score is missing for technical reasons.\n",
    "\n",
    "But since they are only 0.25% of the total volume of data we may safely drop these rows without any damage to the quality of the dataset."
   ]
  },
  {
   "cell_type": "code",
   "execution_count": null,
   "metadata": {
    "id": "9ZqYXWcytAtN"
   },
   "outputs": [],
   "source": [
    "# Drop rows with missing credit scores \n",
    "\n",
    "mortgages_data = mortgages_data.dropna(subset=['Credit Score'])"
   ]
  },
  {
   "cell_type": "markdown",
   "metadata": {},
   "source": [
    "**Most Recent Default Date:** \n",
    "\n",
    "We aren't worried about the \"Most Recent Default Date\" having missing values because these missing values indicate the 'no default' status. We will use this column as our target. Firstly, we will duplicate the column to keep the date, and, secondly, we will replace the missing values with 0 ('no default'), and the dates will be replaced with 1 ('default') in the new duplicated column that will eventually represent the Y (the value we want to be able to predict)."
   ]
  },
  {
   "cell_type": "markdown",
   "metadata": {
    "id": "qWOlFmc4COuS"
   },
   "source": [
    "# **Distribution of Categorical Variables**"
   ]
  },
  {
   "cell_type": "markdown",
   "metadata": {
    "id": "W6RCnyawFh5x"
   },
   "source": [
    "### File Number\n",
    "\n",
    "This column refers to the internal file number of the bank, and it is not relevant for the modelling purposes, so it can be safely dropped."
   ]
  },
  {
   "cell_type": "code",
   "execution_count": null,
   "metadata": {
    "id": "n9jsoPppFsxE"
   },
   "outputs": [],
   "source": [
    "mortgages_data = mortgages_data.drop(columns = 'File Number', axis = 1)"
   ]
  },
  {
   "cell_type": "markdown",
   "metadata": {
    "id": "DCSCcUc8F7cP"
   },
   "source": [
    "### POA / Influencer, Property Type, Province\n",
    "\n",
    "These are categorical variables. Let's study their distribution to learn is we can obtain any insight from that. "
   ]
  },
  {
   "cell_type": "code",
   "execution_count": null,
   "metadata": {
    "colab": {
     "base_uri": "https://localhost:8080/",
     "height": 1000
    },
    "id": "7QFXVVmjF4Pd",
    "outputId": "a613a610-20b1-4cab-8519-99d64d448af9"
   },
   "outputs": [
    {
     "data": {
      "image/png": "[encoded data removed]",
      "text/plain": [
       "<Figure size 864x576 with 1 Axes>"
      ]
     },
     "metadata": {
      "needs_background": "light"
     },
     "output_type": "display_data"
    },
    {
     "data": {
      "image/png": "[encoded data removed]",
      "text/plain": [
       "<Figure size 864x576 with 1 Axes>"
      ]
     },
     "metadata": {
      "needs_background": "light"
     },
     "output_type": "display_data"
    },
    {
     "data": {
      "image/png": "[encoded data removed]",
      "text/plain": [
       "<Figure size 864x576 with 1 Axes>"
      ]
     },
     "metadata": {
      "needs_background": "light"
     },
     "output_type": "display_data"
    }
   ],
   "source": [
    "# check the distribution POA / Influencer, Property Type, Province\n",
    "\n",
    "for i in ['POA / Influencer', 'Property Type', 'Province']:\n",
    "\n",
    "  plt.figure(figsize=(12, 8))\n",
    "  mortgages_data[i].value_counts().sort_values().plot(kind='barh',color='orange')\n",
    "  plt.title(f'Split of Properties for Adjudication by {i} -(e)s ', size = 17)\n",
    "  plt.xlabel('Count', size = 15)\n",
    "  plt.show()\n"
   ]
  },
  {
   "cell_type": "markdown",
   "metadata": {
    "id": "EXg3M325Ckv-"
   },
   "source": [
    "**Observations:**\n",
    "\n",
    "The plots above demonstrate the distribution of 'POA / Influencer', 'Property Type', 'Province', and the following can be mentioned:\n",
    "- the majority of the clients requested a mortgage directly from the bank directly; \n",
    "- Single-family dwellings and condo apartments are the two most frequently refinanced types of real estate;\n",
    "- ON, BC and AB are the three leading provinces in terms of the number of clients for us.\n"
   ]
  },
  {
   "cell_type": "markdown",
   "metadata": {
    "id": "soY8ev4LD_PY"
   },
   "source": [
    "### City"
   ]
  },
  {
   "cell_type": "code",
   "execution_count": null,
   "metadata": {
    "colab": {
     "base_uri": "https://localhost:8080/",
     "height": 522
    },
    "id": "W24TGnKsI9ao",
    "outputId": "db65d844-ae6d-4c40-d3ba-6ea34d113c9d"
   },
   "outputs": [
    {
     "data": {
      "image/png": "[encoded data removed]",
      "text/plain": [
       "<Figure size 864x576 with 1 Axes>"
      ]
     },
     "metadata": {
      "needs_background": "light"
     },
     "output_type": "display_data"
    }
   ],
   "source": [
    "# Check the distribution City\n",
    "\n",
    "plt.figure(figsize=(12, 8))\n",
    "mortgages_data.groupby('City').Province.count().sort_values(ascending=True).tail(10).plot(kind='barh',color='orange')\n",
    "plt.title(f'Top 10 cities in Canada by Properties for Adjudication', size = 17)\n",
    "plt.xlabel('Count', size = 15)\n",
    "plt.show()"
   ]
  },
  {
   "cell_type": "markdown",
   "metadata": {
    "id": "uWo0onMMEkjz"
   },
   "source": [
    "**Observation:**\n",
    "- GTA and Vancouver are the top agglomerations in Canada in reverse mortgage requests.\n",
    "- AB's Calgary and Edmonton are also among the top 10."
   ]
  },
  {
   "cell_type": "markdown",
   "metadata": {
    "id": "GP3xLCYONnL_"
   },
   "source": [
    "### Distribution of Numerical variables\n",
    "\n"
   ]
  },
  {
   "cell_type": "code",
   "execution_count": null,
   "metadata": {
    "id": "Ptl0fSuFN6pj"
   },
   "outputs": [],
   "source": [
    "# Identify numerical variables \n",
    "\n",
    "numerical_variables = ['client age3',\t'Credit Score',\t'Monthly income',\t'First Appraisal Value',\t'Days To Fund',\t'Total Approved Amount']"
   ]
  },
  {
   "cell_type": "code",
   "execution_count": null,
   "metadata": {
    "colab": {
     "base_uri": "https://localhost:8080/",
     "height": 1000
    },
    "id": "nsHTuyGsOQH6",
    "outputId": "4e3dd692-7902-4885-d821-c7713f287675"
   },
   "outputs": [
    {
     "data": {
      "text/plain": [
       "<Figure size 432x288 with 0 Axes>"
      ]
     },
     "metadata": {},
     "output_type": "display_data"
    },
    {
     "data": {
      "image/png": "[encoded data removed]",
      "text/plain": [
       "<Figure size 864x576 with 1 Axes>"
      ]
     },
     "metadata": {
      "needs_background": "light"
     },
     "output_type": "display_data"
    },
    {
     "data": {
      "text/plain": [
       "<Figure size 432x288 with 0 Axes>"
      ]
     },
     "metadata": {},
     "output_type": "display_data"
    },
    {
     "data": {
      "image/png": "[encoded data removed]",
      "text/plain": [
       "<Figure size 864x576 with 1 Axes>"
      ]
     },
     "metadata": {
      "needs_background": "light"
     },
     "output_type": "display_data"
    },
    {
     "data": {
      "text/plain": [
       "<Figure size 432x288 with 0 Axes>"
      ]
     },
     "metadata": {},
     "output_type": "display_data"
    },
    {
     "data": {
      "image/png": "[encoded data removed]",
      "text/plain": [
       "<Figure size 864x576 with 1 Axes>"
      ]
     },
     "metadata": {
      "needs_background": "light"
     },
     "output_type": "display_data"
    },
    {
     "data": {
      "text/plain": [
       "<Figure size 432x288 with 0 Axes>"
      ]
     },
     "metadata": {},
     "output_type": "display_data"
    },
    {
     "data": {
      "image/png": "[encoded data removed]",
      "text/plain": [
       "<Figure size 864x576 with 1 Axes>"
      ]
     },
     "metadata": {
      "needs_background": "light"
     },
     "output_type": "display_data"
    },
    {
     "data": {
      "text/plain": [
       "<Figure size 432x288 with 0 Axes>"
      ]
     },
     "metadata": {},
     "output_type": "display_data"
    },
    {
     "data": {
      "image/png": "[encoded data removed]",
      "text/plain": [
       "<Figure size 864x576 with 1 Axes>"
      ]
     },
     "metadata": {
      "needs_background": "light"
     },
     "output_type": "display_data"
    },
    {
     "data": {
      "text/plain": [
       "<Figure size 432x288 with 0 Axes>"
      ]
     },
     "metadata": {},
     "output_type": "display_data"
    },
    {
     "data": {
      "image/png": "[encoded data removed]",
      "text/plain": [
       "<Figure size 864x576 with 1 Axes>"
      ]
     },
     "metadata": {
      "needs_background": "light"
     },
     "output_type": "display_data"
    }
   ],
   "source": [
    "# Distribution of numerical variables \n",
    "\n",
    "for i in numerical_variables:\n",
    "\n",
    "  #Let's visualize our findings regarding the mosquito number and examnie how they are distirbuted.\n",
    "\n",
    "  plt.figure()\n",
    "\n",
    "  plt.figure(figsize=(12, 8))\n",
    "\n",
    "  plt.hist(mortgages_data[i], bins=50,color='orange')\n",
    "  plt.title(f'Distribution of {i}', size = 17)\n",
    "\n",
    "  # Add the mode\n",
    "\n",
    "  plt.axvline(mortgages_data[i].mode()[0], color='magenta', label='mode')\n",
    "\n",
    "  # Add the median\n",
    "\n",
    "  plt.axvline(mortgages_data[i].median(), color='goldenrod', label='median')\n",
    "\n",
    "  # Add the mean\n",
    "\n",
    "  plt.axvline(mortgages_data[i].mean(), color='darkgreen', label='mean')\n",
    "  plt.legend(loc = 'upper right')\n",
    "  plt.xlabel(f'{i}', size = 15)\n",
    "  plt.ylabel('Number of observations', size = 15)\n"
   ]
  },
  {
   "cell_type": "markdown",
   "metadata": {
    "id": "WL6hodIZFvAd"
   },
   "source": [
    "**Observations:**\n",
    "\n",
    "All the numerical variables have a skewed distribution and obviously contain a great deal of outliers that we will have to treat later in this analysis.\n",
    "\n",
    "These are the most important observations:\n",
    "- most frequently, we deal with clients of around 72 years of age (mode) while the average age is around 75;\n",
    "- the average credit score is above 700 indicating a high credit of our seniors;\n",
    "- many of our clients don't enjoy much opulence of income, which centres around decent CAD 1,800 per month; \n",
    "- most of the properties offered for reverse mortgaging are below CAD 1 mln in appraisal values;\n",
    "- although it has taken some clients more than a year to get funding for their property, most other properties get funded within 100 days (3 mo);\n",
    "- since the approved amount is pegged to the house appraisal values (25%), the majority of approved amounts are below CAD 500 k."
   ]
  },
  {
   "cell_type": "markdown",
   "metadata": {
    "id": "WJXcj_U8rIXo"
   },
   "source": [
    "### Distribution of First Appraisal Date and Funded Date"
   ]
  },
  {
   "cell_type": "markdown",
   "metadata": {
    "id": "Qiqwx9SaKoMc"
   },
   "source": [
    "To understand better the distribution of First Appraisal Date and Funded Date, we decided to create a separate data frame that would allow us to isolate these values and prevent the contamination of the initial data frame while conducting exploratory data analysis and transformations."
   ]
  },
  {
   "cell_type": "code",
   "execution_count": null,
   "metadata": {
    "colab": {
     "base_uri": "https://localhost:8080/"
    },
    "id": "PUChELyPRmNw",
    "outputId": "1aec2ae6-2886-4192-9916-ce912a73b97e"
   },
   "outputs": [
    {
     "name": "stderr",
     "output_type": "stream",
     "text": [
      "/usr/local/lib/python3.7/dist-packages/ipykernel_launcher.py:5: SettingWithCopyWarning: \n",
      "A value is trying to be set on a copy of a slice from a DataFrame.\n",
      "Try using .loc[row_indexer,col_indexer] = value instead\n",
      "\n",
      "See the caveats in the documentation: https://pandas.pydata.org/pandas-docs/stable/user_guide/indexing.html#returning-a-view-versus-a-copy\n",
      "  \"\"\"\n",
      "/usr/local/lib/python3.7/dist-packages/ipykernel_launcher.py:6: SettingWithCopyWarning: \n",
      "A value is trying to be set on a copy of a slice from a DataFrame.\n",
      "Try using .loc[row_indexer,col_indexer] = value instead\n",
      "\n",
      "See the caveats in the documentation: https://pandas.pydata.org/pandas-docs/stable/user_guide/indexing.html#returning-a-view-versus-a-copy\n",
      "  \n"
     ]
    }
   ],
   "source": [
    "# Create a date - time data frame\n",
    "\n",
    "date_time = mortgages_data[['First Appraisal Date', 'Funded Date']]\n",
    "\n",
    "date_time['Month - Appraised'] = date_time['First Appraisal Date'].dt.strftime('%b').astype('category')\n",
    "date_time['Month - Funded'] = date_time['Funded Date'].dt.strftime('%b').astype('category')\n",
    "\n",
    "date_time = date_time.sort_values(by='First Appraisal Date', ascending=True)\n",
    "order = ['Jan', 'Feb', 'Mar', 'Apr', 'May', 'Jun', 'Jul', 'Aug', 'Sep', 'Oct', 'Nov', 'Dec']\n",
    "\n",
    "date_time.reset_index(drop=True, inplace=True)"
   ]
  },
  {
   "cell_type": "code",
   "execution_count": null,
   "metadata": {
    "colab": {
     "base_uri": "https://localhost:8080/",
     "height": 206
    },
    "id": "jozcV83vpQIU",
    "outputId": "dcaff7e0-5ca3-4e32-fb41-474c7aa5eeb6"
   },
   "outputs": [
    {
     "data": {
      "text/html": [
       "\n",
       "  <div id=\"df-572c4c98-757a-4c2e-a2d5-f681958a8180\">\n",
       "    <div class=\"colab-df-container\">\n",
       "      <div>\n",
       "<style scoped>\n",
       "    .dataframe tbody tr th:only-of-type {\n",
       "        vertical-align: middle;\n",
       "    }\n",
       "\n",
       "    .dataframe tbody tr th {\n",
       "        vertical-align: top;\n",
       "    }\n",
       "\n",
       "    .dataframe thead th {\n",
       "        text-align: right;\n",
       "    }\n",
       "</style>\n",
       "<table border=\"1\" class=\"dataframe\">\n",
       "  <thead>\n",
       "    <tr style=\"text-align: right;\">\n",
       "      <th></th>\n",
       "      <th>First Appraisal Date</th>\n",
       "      <th>Funded Date</th>\n",
       "      <th>Month - Appraised</th>\n",
       "      <th>Month - Funded</th>\n",
       "    </tr>\n",
       "  </thead>\n",
       "  <tbody>\n",
       "    <tr>\n",
       "      <th>0</th>\n",
       "      <td>2016-03-21</td>\n",
       "      <td>2017-06-20</td>\n",
       "      <td>Mar</td>\n",
       "      <td>Jun</td>\n",
       "    </tr>\n",
       "    <tr>\n",
       "      <th>1</th>\n",
       "      <td>2016-03-31</td>\n",
       "      <td>2017-12-07</td>\n",
       "      <td>Mar</td>\n",
       "      <td>Dec</td>\n",
       "    </tr>\n",
       "    <tr>\n",
       "      <th>2</th>\n",
       "      <td>2016-04-04</td>\n",
       "      <td>2017-05-16</td>\n",
       "      <td>Apr</td>\n",
       "      <td>May</td>\n",
       "    </tr>\n",
       "    <tr>\n",
       "      <th>3</th>\n",
       "      <td>2016-04-19</td>\n",
       "      <td>2017-04-25</td>\n",
       "      <td>Apr</td>\n",
       "      <td>Apr</td>\n",
       "    </tr>\n",
       "    <tr>\n",
       "      <th>4</th>\n",
       "      <td>2016-05-12</td>\n",
       "      <td>2017-06-12</td>\n",
       "      <td>May</td>\n",
       "      <td>Jun</td>\n",
       "    </tr>\n",
       "  </tbody>\n",
       "</table>\n",
       "</div>\n",
       "      <button class=\"colab-df-convert\" onclick=\"convertToInteractive('df-572c4c98-757a-4c2e-a2d5-f681958a8180')\"\n",
       "              title=\"Convert this dataframe to an interactive table.\"\n",
       "              style=\"display:none;\">\n",
       "        \n",
       "  <svg xmlns=\"http://www.w3.org/2000/svg\" height=\"24px\"viewBox=\"0 0 24 24\"\n",
       "       width=\"24px\">\n",
       "    <path d=\"M0 0h24v24H0V0z\" fill=\"none\"/>\n",
       "    <path d=\"M18.56 5.44l.94 2.06.94-2.06 2.06-.94-2.06-.94-.94-2.06-.94 2.06-2.06.94zm-11 1L8.5 8.5l.94-2.06 2.06-.94-2.06-.94L8.5 2.5l-.94 2.06-2.06.94zm10 10l.94 2.06.94-2.06 2.06-.94-2.06-.94-.94-2.06-.94 2.06-2.06.94z\"/><path d=\"M17.41 7.96l-1.37-1.37c-.4-.4-.92-.59-1.43-.59-.52 0-1.04.2-1.43.59L10.3 9.45l-7.72 7.72c-.78.78-.78 2.05 0 2.83L4 21.41c.39.39.9.59 1.41.59.51 0 1.02-.2 1.41-.59l7.78-7.78 2.81-2.81c.8-.78.8-2.07 0-2.86zM5.41 20L4 18.59l7.72-7.72 1.47 1.35L5.41 20z\"/>\n",
       "  </svg>\n",
       "      </button>\n",
       "      \n",
       "  <style>\n",
       "    .colab-df-container {\n",
       "      display:flex;\n",
       "      flex-wrap:wrap;\n",
       "      gap: 12px;\n",
       "    }\n",
       "\n",
       "    .colab-df-convert {\n",
       "      background-color: #E8F0FE;\n",
       "      border: none;\n",
       "      border-radius: 50%;\n",
       "      cursor: pointer;\n",
       "      display: none;\n",
       "      fill: #1967D2;\n",
       "      height: 32px;\n",
       "      padding: 0 0 0 0;\n",
       "      width: 32px;\n",
       "    }\n",
       "\n",
       "    .colab-df-convert:hover {\n",
       "      background-color: #E2EBFA;\n",
       "      box-shadow: 0px 1px 2px rgba(60, 64, 67, 0.3), 0px 1px 3px 1px rgba(60, 64, 67, 0.15);\n",
       "      fill: #174EA6;\n",
       "    }\n",
       "\n",
       "    [theme=dark] .colab-df-convert {\n",
       "      background-color: #3B4455;\n",
       "      fill: #D2E3FC;\n",
       "    }\n",
       "\n",
       "    [theme=dark] .colab-df-convert:hover {\n",
       "      background-color: #434B5C;\n",
       "      box-shadow: 0px 1px 3px 1px rgba(0, 0, 0, 0.15);\n",
       "      filter: drop-shadow(0px 1px 2px rgba(0, 0, 0, 0.3));\n",
       "      fill: #FFFFFF;\n",
       "    }\n",
       "  </style>\n",
       "\n",
       "      <script>\n",
       "        const buttonEl =\n",
       "          document.querySelector('#df-572c4c98-757a-4c2e-a2d5-f681958a8180 button.colab-df-convert');\n",
       "        buttonEl.style.display =\n",
       "          google.colab.kernel.accessAllowed ? 'block' : 'none';\n",
       "\n",
       "        async function convertToInteractive(key) {\n",
       "          const element = document.querySelector('#df-572c4c98-757a-4c2e-a2d5-f681958a8180');\n",
       "          const dataTable =\n",
       "            await google.colab.kernel.invokeFunction('convertToInteractive',\n",
       "                                                     [key], {});\n",
       "          if (!dataTable) return;\n",
       "\n",
       "          const docLinkHtml = 'Like what you see? Visit the ' +\n",
       "            '<a target=\"_blank\" href=https://colab.research.google.com/notebooks/data_table.ipynb>data table notebook</a>'\n",
       "            + ' to learn more about interactive tables.';\n",
       "          element.innerHTML = '';\n",
       "          dataTable['output_type'] = 'display_data';\n",
       "          await google.colab.output.renderOutput(dataTable, element);\n",
       "          const docLink = document.createElement('div');\n",
       "          docLink.innerHTML = docLinkHtml;\n",
       "          element.appendChild(docLink);\n",
       "        }\n",
       "      </script>\n",
       "    </div>\n",
       "  </div>\n",
       "  "
      ],
      "text/plain": [
       "  First Appraisal Date Funded Date Month - Appraised Month - Funded\n",
       "0           2016-03-21  2017-06-20               Mar            Jun\n",
       "1           2016-03-31  2017-12-07               Mar            Dec\n",
       "2           2016-04-04  2017-05-16               Apr            May\n",
       "3           2016-04-19  2017-04-25               Apr            Apr\n",
       "4           2016-05-12  2017-06-12               May            Jun"
      ]
     },
     "execution_count": 20,
     "metadata": {},
     "output_type": "execute_result"
    }
   ],
   "source": [
    "# Demonstrate the new data frame \n",
    "\n",
    "date_time.head(5)"
   ]
  },
  {
   "cell_type": "markdown",
   "metadata": {
    "id": "Mnh5vEh1wbmD"
   },
   "source": [
    "**Observation:**\n",
    "- some loans, initiated in 2016, were funded in 2017.\n",
    "- all loans initiated in 2017 were funded within that same year."
   ]
  },
  {
   "cell_type": "markdown",
   "metadata": {
    "id": "nwgN97MMLLaU"
   },
   "source": [
    "Let's create plots showing the distribution of the date-time variables."
   ]
  },
  {
   "cell_type": "code",
   "execution_count": null,
   "metadata": {
    "colab": {
     "base_uri": "https://localhost:8080/",
     "height": 837
    },
    "id": "9pRKkYvooJr7",
    "outputId": "3ae48445-e0ec-4d21-c755-c69678127c45"
   },
   "outputs": [
    {
     "data": {
      "image/png": "[encoded data removed]",
      "text/plain": [
       "<Figure size 720x432 with 1 Axes>"
      ]
     },
     "metadata": {
      "needs_background": "light"
     },
     "output_type": "display_data"
    },
    {
     "data": {
      "image/png": "[encoded data removed]",
      "text/plain": [
       "<Figure size 720x432 with 1 Axes>"
      ]
     },
     "metadata": {},
     "output_type": "display_data"
    }
   ],
   "source": [
    "# creating a plot - mosquitoes trapped by week \n",
    "\n",
    "for i in ['Month - Appraised',\t'Month - Funded']:\n",
    "\n",
    "  plt.figure(figsize=(10,6)) \n",
    "  sns.set_style(\"ticks\")\n",
    "  sns.set_context(\"paper\", font_scale=2)\n",
    "\n",
    "  sa = sns.barplot(x=date_time.sort_values(by=i).groupby(by=i).count().index, \n",
    "                  y=date_time[i].value_counts().sort_values(), data=date_time, palette = sns.color_palette(\"husl\",12),\n",
    "                  order=order)\n",
    "  plt.ylabel('Count')\n",
    "  sa.set(title = f'Properties by {i}' )"
   ]
  },
  {
   "cell_type": "markdown",
   "metadata": {
    "id": "sR9YjV1dLZiC"
   },
   "source": [
    "**Observation**:\n",
    "\n",
    "- there is some mild cyclicity in the business, with every fourth month of the year showing a slight dip;\n",
    "- the cyclicity may be attributed to the working of the internal bank's reporting systems."
   ]
  },
  {
   "cell_type": "markdown",
   "metadata": {
    "id": "c1VZI82yMKkV"
   },
   "source": [
    "# Treating the Outliers"
   ]
  },
  {
   "cell_type": "markdown",
   "metadata": {
    "id": "VtUeEvP8riv9"
   },
   "source": [
    "\n",
    "The next step is outlier detection, which we will achieve through applying box plot mechanisms.\n",
    "\n",
    "These are the columns that have proven to have outliers as a result of a visual inspection:\n",
    "\n",
    "- client age3    \n",
    "- Credit Score    \n",
    "- Monthly income   \n",
    "- First Appraisal Value  \n",
    "- Days To Fund \n",
    "- Total Approved Amount  \n",
    "\n",
    "We will examine these variables for outliers, except for Credit Score, because this feature is not subject to analyst assumptions. "
   ]
  },
  {
   "cell_type": "code",
   "execution_count": null,
   "metadata": {
    "colab": {
     "base_uri": "https://localhost:8080/",
     "height": 296
    },
    "id": "97LC5c-ZtAc7",
    "outputId": "75b1f966-73bd-4dde-b206-97bf187f5dfd"
   },
   "outputs": [
    {
     "data": {
      "image/png": "[encoded data removed]",
      "text/plain": [
       "<Figure size 432x288 with 1 Axes>"
      ]
     },
     "metadata": {},
     "output_type": "display_data"
    }
   ],
   "source": [
    "# Age \n",
    "\n",
    "plt.figure()\n",
    "plt.boxplot(mortgages_data['client age3'])\n",
    "plt.title('The distribution of Client Age')\n",
    "plt.ylabel('Client Age')\n",
    "plt.show()"
   ]
  },
  {
   "cell_type": "code",
   "execution_count": null,
   "metadata": {
    "colab": {
     "base_uri": "https://localhost:8080/"
    },
    "id": "QvkTX23ltQz3",
    "outputId": "5039b092-285d-4599-ef73-86bdfe7888f4"
   },
   "outputs": [
    {
     "data": {
      "text/plain": [
       "0"
      ]
     },
     "execution_count": 23,
     "metadata": {},
     "output_type": "execute_result"
    }
   ],
   "source": [
    "# Age Outliers \n",
    "\n",
    "from matplotlib.cbook import boxplot_stats  \n",
    "boxplot_stats(mortgages_data['client age3']).pop(0)['fliers']\n",
    "len(boxplot_stats(mortgages_data['client age3']).pop(0)['fliers'])"
   ]
  },
  {
   "cell_type": "code",
   "execution_count": null,
   "metadata": {
    "colab": {
     "base_uri": "https://localhost:8080/"
    },
    "id": "0qMq_bwlBm00",
    "outputId": "202dd8e2-7104-4e47-cfe2-24bebb967426"
   },
   "outputs": [
    {
     "data": {
      "text/plain": [
       "[{'cihi': 75.82388455561363,\n",
       "  'cilo': 75.13685447440946,\n",
       "  'fliers': array([], dtype=float64),\n",
       "  'iqr': 13.102411873840452,\n",
       "  'mean': 75.8208420783563,\n",
       "  'med': 75.48036951501155,\n",
       "  'q1': 68.5469387755102,\n",
       "  'q3': 81.64935064935065,\n",
       "  'whishi': 97.33333333333333,\n",
       "  'whislo': 59.0}]"
      ]
     },
     "execution_count": 24,
     "metadata": {},
     "output_type": "execute_result"
    }
   ],
   "source": [
    "boxplot_stats(mortgages_data['client age3'])"
   ]
  },
  {
   "cell_type": "markdown",
   "metadata": {
    "id": "wWegUr-rtdJV"
   },
   "source": [
    "The box plot method has shown no outliers, which counters the results of the visual inspection and confirms that the age of clients is distributed fairly normally, and we won't make any changes in our assumptions."
   ]
  },
  {
   "cell_type": "markdown",
   "metadata": {
    "id": "3xcd_b7htxIB"
   },
   "source": [
    "### Monthly income\n",
    "\n"
   ]
  },
  {
   "cell_type": "code",
   "execution_count": null,
   "metadata": {
    "colab": {
     "base_uri": "https://localhost:8080/",
     "height": 296
    },
    "id": "5PRM2E9bul0y",
    "outputId": "8f7a4deb-b518-4026-fb86-d900666a0d6e"
   },
   "outputs": [
    {
     "data": {
      "image/png": "[encoded data removed]",
      "text/plain": [
       "<Figure size 432x288 with 1 Axes>"
      ]
     },
     "metadata": {},
     "output_type": "display_data"
    }
   ],
   "source": [
    "# Monthly income \n",
    "\n",
    "plt.figure()\n",
    "plt.boxplot(mortgages_data['Monthly income'])\n",
    "plt.title('The distribution of Monthly income')\n",
    "plt.ylabel('Monthly income')\n",
    "plt.show()"
   ]
  },
  {
   "cell_type": "code",
   "execution_count": null,
   "metadata": {
    "colab": {
     "base_uri": "https://localhost:8080/"
    },
    "id": "7X8vrCVbu28j",
    "outputId": "a48fadc1-23fb-4581-c75f-d5881d311f91"
   },
   "outputs": [
    {
     "name": "stdout",
     "output_type": "stream",
     "text": [
      "199\n",
      "123\n"
     ]
    }
   ],
   "source": [
    "# Monthly Income Outliers \n",
    "\n",
    "from matplotlib.cbook import boxplot_stats  \n",
    "boxplot_stats(mortgages_data['Monthly income']).pop(0)['fliers']\n",
    "len(boxplot_stats(mortgages_data['Monthly income']).pop(0)['fliers'])\n",
    "\n",
    "from matplotlib.cbook import boxplot_stats  \n",
    "\n",
    "print(len(boxplot_stats(mortgages_data['Monthly income']).pop(0)['fliers']))\n",
    "outliers = (boxplot_stats(mortgages_data['Monthly income']).pop(0)['fliers']).tolist()\n",
    "outliers = set(outliers)\n",
    "outliers = list(outliers) \n",
    "print(len(outliers))"
   ]
  },
  {
   "cell_type": "markdown",
   "metadata": {
    "id": "BtAHQtK7MrqM"
   },
   "source": [
    "The box plot method detects 199 instances and 123 unique outliers in the Monthly Income."
   ]
  },
  {
   "cell_type": "code",
   "execution_count": null,
   "metadata": {
    "colab": {
     "base_uri": "https://localhost:8080/"
    },
    "id": "DhTnN6NhAwr5",
    "outputId": "9dc610ca-23ba-446d-96a5-12175cce4d93"
   },
   "outputs": [
    {
     "data": {
      "text/plain": [
       "[{'cihi': 1800.0,\n",
       "  'cilo': 1800.0,\n",
       "  'fliers': array([    0.        ,     0.        ,     0.        ,     0.        ,\n",
       "             0.        ,     0.        ,     0.        ,     0.        ,\n",
       "             0.        ,     0.        ,     0.        ,     0.        ,\n",
       "             0.        ,     0.        ,     0.        ,     0.        ,\n",
       "             0.        ,     0.        ,     0.        ,     0.        ,\n",
       "             0.        ,     0.        ,     0.        ,     0.        ,\n",
       "             0.        ,     0.        ,     0.        ,     0.        ,\n",
       "             0.        ,     0.        ,     0.        ,     0.        ,\n",
       "             0.        ,     0.        ,     0.        ,     0.        ,\n",
       "             0.        ,     0.        ,     0.        ,     0.        ,\n",
       "             0.        ,     0.        ,     0.        ,     0.        ,\n",
       "             0.        ,     0.        ,     0.        ,     0.        ,\n",
       "             0.        ,     0.        ,     0.        ,     0.        ,\n",
       "             0.        ,     0.        ,     0.        ,     0.        ,\n",
       "             0.        ,     0.        ,     0.        ,     0.        ,\n",
       "             0.        ,     0.        ,     0.        ,     0.        ,\n",
       "             0.        ,     0.        ,     0.        ,     0.        ,\n",
       "             0.        ,  2400.        ,  2500.        ,  2778.        ,\n",
       "          7337.        , 21397.        ,  3500.        ,  3075.        ,\n",
       "          3143.        ,  2260.        ,  3069.        ,  8976.        ,\n",
       "          2489.        ,  2551.        ,  4712.        ,  6869.94      ,\n",
       "          5297.        ,  4135.        ,  2237.62      ,  2541.        ,\n",
       "          2942.        ,  2680.        ,  7447.        ,  2153.        ,\n",
       "          2391.62      ,  3300.        ,  2551.        ,  6169.        ,\n",
       "          2474.        ,  4320.        ,  3404.        ,  6596.        ,\n",
       "          2357.        ,  2299.        ,  3670.        ,  2522.        ,\n",
       "          2697.32      ,  4832.        ,  3978.        ,  4900.        ,\n",
       "          8428.        ,  3328.        ,  3400.        ,  6148.        ,\n",
       "          4786.        ,  2640.07833333,  8683.33333333,  5445.45916667,\n",
       "          6250.        ,  2916.66666667,  3131.58836667,  2000.        ,\n",
       "          2507.5       ,  2583.33333333,  3190.83333333,  2339.49999667,\n",
       "          2500.        ,  9005.5833    ,  6330.        ,  2002.08333333,\n",
       "          3489.38      ,  2202.        ,  3372.        ,  2080.        ,\n",
       "          5844.        ,  2703.        ,  2854.67      ,  2187.        ,\n",
       "          4700.        ,  4212.        ,  3816.        ,  2408.59      ,\n",
       "          5966.        ,  2380.        ,  2428.        ,  2707.        ,\n",
       "          2092.        ,  2988.        ,  3134.        ,  8809.        ,\n",
       "          2400.        ,  4016.        ,  3399.77      ,  2623.        ,\n",
       "          2178.        ,  3971.        ,  5175.        ,  2537.        ,\n",
       "          4310.        ,  4575.        ,  3677.        ,  3811.        ,\n",
       "          2578.1       ,  3750.        ,  2200.        ,  2395.        ,\n",
       "          2200.        ,  7726.43      ,  2542.        ,  4900.        ,\n",
       "          4190.        ,  2000.        ,  2453.        ,  3733.        ,\n",
       "          3450.        ,  2716.        ,  2427.        ,  3224.        ,\n",
       "          3249.        ,  2184.        ,  5000.        ,  5499.        ,\n",
       "          2290.        ,  2032.        ,  2072.        ,  4583.        ,\n",
       "          4300.        ,  3365.        ,  2704.57      ,  3196.        ,\n",
       "          3750.        ,  2295.        ,  3284.        ,  2621.        ,\n",
       "          2305.        ,  2187.        ,  2469.        ,  2239.        ,\n",
       "          2682.26      ,  2418.        ,  2644.        ]),\n",
       "  'iqr': 0.0,\n",
       "  'mean': 1836.047191623908,\n",
       "  'med': 1800.0,\n",
       "  'q1': 1800.0,\n",
       "  'q3': 1800.0,\n",
       "  'whishi': 1800.0,\n",
       "  'whislo': 1800.0}]"
      ]
     },
     "execution_count": 27,
     "metadata": {},
     "output_type": "execute_result"
    }
   ],
   "source": [
    "# Show the distribution statistics for Monthly Income\n",
    "\n",
    "boxplot_stats(mortgages_data['Monthly income'])"
   ]
  },
  {
   "cell_type": "markdown",
   "metadata": {
    "id": "t_H_T0-dvOJ2"
   },
   "source": [
    "We've identified 199 outliers consisting of 123 unique values. We will replace these values with the maximum amounts using the median of the Q3 from the box plot, which is CAD 1,800 in our case. The left end of the distribution we will treat the same way - by applying Q1.\n",
    "\n"
   ]
  },
  {
   "cell_type": "code",
   "execution_count": null,
   "metadata": {
    "id": "zLGSsIbhv559"
   },
   "outputs": [],
   "source": [
    "# Cure the outliers\n",
    "\n",
    "mortgages_data['Monthly income'] = mortgages_data['Monthly income'].apply(lambda x: boxplot_stats(mortgages_data['Monthly income']).pop(0)['q3'] if x > boxplot_stats(mortgages_data['Monthly income']).pop(0)['q3'] else x)\n",
    "mortgages_data['Monthly income'] = mortgages_data['Monthly income'].apply(lambda x: boxplot_stats(mortgages_data['Monthly income']).pop(0)['q1'] if x == 0.00 else x)\n"
   ]
  },
  {
   "cell_type": "markdown",
   "metadata": {
    "id": "AMb1sovie2Xq"
   },
   "source": [
    "### Days To Fund"
   ]
  },
  {
   "cell_type": "code",
   "execution_count": null,
   "metadata": {
    "colab": {
     "base_uri": "https://localhost:8080/"
    },
    "id": "EE2laozukTHR",
    "outputId": "dd86e3f3-4953-4832-b449-cca8c4590c4f"
   },
   "outputs": [
    {
     "name": "stdout",
     "output_type": "stream",
     "text": [
      "269\n",
      "107\n"
     ]
    }
   ],
   "source": [
    "# Days To Fund\n",
    "\n",
    "from matplotlib.cbook import boxplot_stats  \n",
    "boxplot_stats(mortgages_data['Days To Fund']).pop(0)['fliers']\n",
    "len(boxplot_stats(mortgages_data['Days To Fund']).pop(0)['fliers'])\n",
    "\n",
    "from matplotlib.cbook import boxplot_stats  \n",
    "\n",
    "print(len(boxplot_stats(mortgages_data['Days To Fund']).pop(0)['fliers']))\n",
    "outliers = (boxplot_stats(mortgages_data['Days To Fund']).pop(0)['fliers']).tolist()\n",
    "outliers = set(outliers)\n",
    "outliers = list(outliers) \n",
    "print(len(outliers))"
   ]
  },
  {
   "cell_type": "markdown",
   "metadata": {
    "id": "kmKSjvaxN-E9"
   },
   "source": [
    "There are 269 instances and 107 unique outliers in the Days To Fund."
   ]
  },
  {
   "cell_type": "code",
   "execution_count": null,
   "metadata": {
    "colab": {
     "base_uri": "https://localhost:8080/",
     "height": 296
    },
    "id": "t97sPCkTxfIo",
    "outputId": "c57d9a8d-44aa-4a72-c22c-336d5f6cec96"
   },
   "outputs": [
    {
     "data": {
      "image/png": "[encoded data removed]",
      "text/plain": [
       "<Figure size 432x288 with 1 Axes>"
      ]
     },
     "metadata": {},
     "output_type": "display_data"
    }
   ],
   "source": [
    "# Days to Fund  \n",
    "\n",
    "plt.figure()\n",
    "plt.boxplot(mortgages_data['Days To Fund'])\n",
    "plt.title('The distribution of Days To Fund')\n",
    "plt.ylabel('Days To Fund')\n",
    "plt.show()"
   ]
  },
  {
   "cell_type": "code",
   "execution_count": null,
   "metadata": {
    "colab": {
     "base_uri": "https://localhost:8080/"
    },
    "id": "Oknetl_xxu-p",
    "outputId": "b9e13ee7-abf0-4735-deab-38eb48b10156"
   },
   "outputs": [
    {
     "data": {
      "text/plain": [
       "[{'cihi': 26.44570081802227,\n",
       "  'cilo': 25.55429918197773,\n",
       "  'fliers': array([114,  78,  72,  65, 105,  70,  72, 130,  85, 122,  62,  69,  66,\n",
       "          67,  93, 165, 188,  85,  74, 165,  79, 171,  79, 384, 195,  69,\n",
       "          65,  63,  86, 107,  74, 106,  85,  84, 267,  75, 217, 117, 117,\n",
       "          77,  82, 115, 185,  74,  86,  81,  86,  82,  79,  66,  80,  62,\n",
       "          65,  86,  64, 330, 166, 102,  87,  63, 135, 107, 145,  96,  75,\n",
       "          83, 237, 251, 177, 196, 155,  67,  75,  64, 116,  70, 171,  86,\n",
       "          78,  65,  62, 151, 115,  86, 153, 135,  68, 155,  85,  67,  70,\n",
       "          74,  77, 140, 292,  75,  69,  82,  75,  77,  85,  66,  84,  70,\n",
       "          97,  73,  64,  64, 103, 105,  93,  74,  98,  68, 220,  71,  66,\n",
       "          64,  78,  70,  62,  87,  65, 260, 111,  64,  83,  69,  87, 145,\n",
       "         107,  72, 108,  86,  68, 154,  70,  65,  81,  97,  89,  66, 154,\n",
       "         292,  87, 210, 218, 270, 104, 107, 129,  78, 218, 359,  68,  68,\n",
       "         118, 198,  83, 266,  97, 101,  98, 153,  98,  88,  82,  71, 204,\n",
       "          88,  84,  71, 111, 100,  73, 115,  68,  63,  87,  62,  63,  77,\n",
       "         288,  97,  69, 244, 274,  64,  94,  87,  74,  78,  86,  66,  91,\n",
       "          88,  76,  65,  65,  63, 113,  64, 116, 340,  83, 282,  80,  70,\n",
       "         105,  96,  88, 157,  75, 113,  64,  76, 142, 100,  67, 110,  99,\n",
       "          77,  74, 113, 106, 114,  62, 195, 138, 229,  73,  62, 292,  90,\n",
       "         156,  62, 109,  67, 206, 137,  87,  94,  66, 150,  78,  68, 197,\n",
       "          87,  74, 109, 145,  87, 101, 296,  87,  79,  92, 113,  83, 129,\n",
       "         161, 119, 188,  62, 455,  66,  89,  64,  78]),\n",
       "  'iqr': 17.0,\n",
       "  'mean': 33.22085889570552,\n",
       "  'med': 26.0,\n",
       "  'q1': 19.0,\n",
       "  'q3': 36.0,\n",
       "  'whishi': 61,\n",
       "  'whislo': 5}]"
      ]
     },
     "execution_count": 31,
     "metadata": {},
     "output_type": "execute_result"
    }
   ],
   "source": [
    "# Show Statistics for Days To Fund\n",
    "\n",
    "boxplot_stats(mortgages_data['Days To Fund'])"
   ]
  },
  {
   "cell_type": "markdown",
   "metadata": {
    "id": "nfSiJkPQNgGr"
   },
   "source": [
    "We will cure the outliers in this variable because they are present in less than 10% of cases, and it will not cause any serious distortion of the data set. The cure is only needed on the right side of the distribution. \n",
    "\n",
    "Separately, we note that, currently, the median value of Days To Fund is **26** and the median is around **33**."
   ]
  },
  {
   "cell_type": "code",
   "execution_count": null,
   "metadata": {
    "id": "NZ_63AcPkgac"
   },
   "outputs": [],
   "source": [
    "# cure the outliers \n",
    "\n",
    "mortgages_data['Days To Fund'] = mortgages_data['Days To Fund'].apply(lambda x: boxplot_stats(mortgages_data['Days To Fund']).pop(0)['whishi'] if x > boxplot_stats(mortgages_data['Days To Fund']).pop(0)['whishi'] else x)\n"
   ]
  },
  {
   "cell_type": "markdown",
   "metadata": {
    "id": "RSf1FYngN1zv"
   },
   "source": [
    "### First Appraisal Value"
   ]
  },
  {
   "cell_type": "code",
   "execution_count": null,
   "metadata": {
    "colab": {
     "base_uri": "https://localhost:8080/",
     "height": 296
    },
    "id": "CzmJ2zWQe1z3",
    "outputId": "33d423a2-af2d-4eb1-cbaa-0192ddfa2925"
   },
   "outputs": [
    {
     "data": {
      "image/png": "[encoded data removed]",
      "text/plain": [
       "<Figure size 432x288 with 1 Axes>"
      ]
     },
     "metadata": {},
     "output_type": "display_data"
    }
   ],
   "source": [
    "# First Appraisal Value \n",
    "\n",
    "plt.figure()\n",
    "plt.boxplot(mortgages_data['First Appraisal Value'])\n",
    "plt.title('The distribution of First Appraisal Value')\n",
    "plt.ylabel('First Appraisal Value')\n",
    "plt.show()"
   ]
  },
  {
   "cell_type": "code",
   "execution_count": null,
   "metadata": {
    "colab": {
     "base_uri": "https://localhost:8080/"
    },
    "id": "BfoAW94xfz3V",
    "outputId": "8b3281ee-e97e-4159-a098-690336638904"
   },
   "outputs": [
    {
     "name": "stdout",
     "output_type": "stream",
     "text": [
      "257\n",
      "118\n"
     ]
    }
   ],
   "source": [
    "# First Appraisal Value \n",
    "\n",
    "from matplotlib.cbook import boxplot_stats  \n",
    "boxplot_stats(mortgages_data['First Appraisal Value']).pop(0)['fliers']\n",
    "len(boxplot_stats(mortgages_data['First Appraisal Value']).pop(0)['fliers'])\n",
    "\n",
    "from matplotlib.cbook import boxplot_stats  \n",
    "\n",
    "print(len(boxplot_stats(mortgages_data['First Appraisal Value']).pop(0)['fliers']))\n",
    "outliers = (boxplot_stats(mortgages_data['First Appraisal Value']).pop(0)['fliers']).tolist()\n",
    "outliers = set(outliers)\n",
    "outliers = list(outliers) \n",
    "print(len(outliers))"
   ]
  },
  {
   "cell_type": "markdown",
   "metadata": {
    "id": "0W6j3tMiOH1b"
   },
   "source": [
    "There are 257 outliers in the First Appraisal Value and 118 unique instances."
   ]
  },
  {
   "cell_type": "code",
   "execution_count": null,
   "metadata": {
    "colab": {
     "base_uri": "https://localhost:8080/"
    },
    "id": "P_nRoEIqgTon",
    "outputId": "6c08122b-8cb3-44d4-84af-f5e34c45e095"
   },
   "outputs": [
    {
     "data": {
      "text/plain": [
       "[{'cihi': 431436.1586365479,\n",
       "  'cilo': 408563.8413634521,\n",
       "  'fliers': array([1900000, 2400000, 1390000, 3625000, 1475000, 1840000, 1420000,\n",
       "         3150000, 1670000, 2000000, 2525000, 1580000, 1430000, 2050000,\n",
       "         1575000, 1495000, 1443000, 1980000, 1600000, 3750000, 1700000,\n",
       "         1500000, 1710000, 1875000, 1425000, 1500000, 1975000, 2450000,\n",
       "         3150000, 1580000, 1830000, 1760000, 1950000, 2700000, 1615000,\n",
       "         1775000, 1850000, 1675000, 2796000, 1700000, 1400000, 1890000,\n",
       "         1880000, 1575000, 2500000, 2150000, 1440000, 1710000, 4600000,\n",
       "         3000000, 3100000, 1385000, 1400000, 1575000, 1460000, 1800000,\n",
       "         3300000, 1535000, 2000000, 2500000, 2325000, 1550000, 1530000,\n",
       "         2000000, 1700000, 1650000, 2000000, 1400000, 1675000, 2950000,\n",
       "         2400000, 1800000, 2405000, 2100000, 1750000, 1400000, 1600000,\n",
       "         2800000, 1690000, 1390000, 1525000, 2800000, 1850000, 1500000,\n",
       "         2180000, 3430000, 3050000, 4400000, 1630000, 1600000, 4450000,\n",
       "         1950000, 1675000, 2100000, 1725000, 2300000, 1400000, 1380000,\n",
       "         1610000, 1750000, 2330000, 1725000, 1750000, 1400000, 2175000,\n",
       "         1925000, 1450000, 1575000, 1400000, 1560000, 2200000, 2250000,\n",
       "         1370000, 3000000, 1600000, 1400000, 1800000, 1745000, 1587495,\n",
       "         2700000, 2050000, 1370000, 2140000, 1400000, 3100000, 1420000,\n",
       "         2100000, 1450000, 1400000, 2025000, 3200000, 1900000, 1400000,\n",
       "         7000000, 1645000, 2425000, 4075000, 2870000, 1825000, 1786000,\n",
       "         1780000, 2700000, 1630000, 1575000, 1480000, 1450000, 1550000,\n",
       "         1400000, 4000000, 2500000, 1650000, 1950000, 1600000, 1600000,\n",
       "         1450000, 3400000, 1575000, 1550000, 1950000, 1900000, 1550000,\n",
       "         1865000, 1675000, 2340000, 2700000, 2050000, 1675000, 3900000,\n",
       "         2000000, 2150000, 2300000, 1750000, 1495000, 1575000, 1450000,\n",
       "         2500000, 3000000, 1900000, 4100000, 3800000, 1460000, 2490000,\n",
       "         1375000, 1625000, 1975000, 1800000, 2600000, 1750000, 2400000,\n",
       "         1685000, 2700000, 1650000, 5000000, 1500000, 1990000, 2500000,\n",
       "         1475000, 1550000, 4000000, 2400000, 1840000, 1600000, 2275000,\n",
       "         2280000, 1540000, 1425000, 1495000, 3450000, 2250000, 2900000,\n",
       "         1475000, 1400000, 3400000, 1430000, 1475000, 1750000, 1575000,\n",
       "         1875000, 2100000, 4250000, 1500000, 1575000, 1850000, 2800000,\n",
       "         1475000, 2550000, 1850000, 1700000, 1375000, 1525000, 1450000,\n",
       "         1475000, 2050000, 1650000, 1650000, 4900000, 1480000, 1750000,\n",
       "         1380000, 5960000, 1750000, 1400000, 3900000, 1675000, 2050000,\n",
       "         1500000, 1400000, 1700000, 1750000, 2125000, 1725000, 2800000,\n",
       "         1975000, 1400000, 1900000, 1620000, 3100000]),\n",
       "  'iqr': 436200.0,\n",
       "  'mean': 587613.9712771891,\n",
       "  'med': 420000.0,\n",
       "  'q1': 270000.0,\n",
       "  'q3': 706200.0,\n",
       "  'whishi': 1360000,\n",
       "  'whislo': 93000}]"
      ]
     },
     "execution_count": 35,
     "metadata": {},
     "output_type": "execute_result"
    }
   ],
   "source": [
    "# Show statistics for First Appraisal Value\n",
    "\n",
    "boxplot_stats(mortgages_data['First Appraisal Value'])"
   ]
  },
  {
   "cell_type": "markdown",
   "metadata": {
    "id": "dxtzGviGOavL"
   },
   "source": [
    "We will cure the outliers using the box plot method and cap the appraisal value at Q3, which in our case is CAD 1,360,000."
   ]
  },
  {
   "cell_type": "code",
   "execution_count": null,
   "metadata": {
    "id": "R-jUcb1PhPw9"
   },
   "outputs": [],
   "source": [
    "# Cure the outliers \n",
    "\n",
    "mortgages_data['First Appraisal Value'] = mortgages_data['First Appraisal Value'].apply(lambda x: boxplot_stats(mortgages_data['First Appraisal Value']).pop(0)['whishi'] if x > boxplot_stats(mortgages_data['First Appraisal Value']).pop(0)['whishi'] else x)\n"
   ]
  },
  {
   "cell_type": "markdown",
   "metadata": {
    "id": "3_1-qLWqk1S3"
   },
   "source": [
    "# Total Approved Amount"
   ]
  },
  {
   "cell_type": "markdown",
   "metadata": {
    "id": "V-39s0TsPmQA"
   },
   "source": [
    "After curing the First Appraisal Amount, we should create a separate column that would contain the data of the maximum approved amount, given the fact that it is pegged to the First Appraisal Amount."
   ]
  },
  {
   "cell_type": "code",
   "execution_count": null,
   "metadata": {
    "id": "Pd3Q4YTuk3ej"
   },
   "outputs": [],
   "source": [
    "# correct Total Approved Amount for the outliers that were removed from the appraisal amount\n",
    "\n",
    "mortgages_data['Total Approved Amount_corrected_'] = 0.25*mortgages_data['First Appraisal Value']"
   ]
  },
  {
   "cell_type": "markdown",
   "metadata": {
    "id": "ElwYkJb9oJVe"
   },
   "source": [
    "# Most Recent Default Date"
   ]
  },
  {
   "cell_type": "markdown",
   "metadata": {
    "id": "m6nkNjdkQenN"
   },
   "source": [
    "The Most Recent Default Date will be converted into a new variable that we will call 'Default Status'. The latter will be the target variable, and 1 in it will signify an instance of default, while 0 signifies the opposite."
   ]
  },
  {
   "cell_type": "code",
   "execution_count": null,
   "metadata": {
    "id": "P2syDqSboGrO"
   },
   "outputs": [],
   "source": [
    "# Most Recent Default Date\n",
    "\n",
    "for i in ['Most Recent Default Date']:\n",
    "  mortgages_data[i] = mortgages_data[i].astype('str')\n",
    "  #mortgages_data[i] = mortgages_data[i].replace('NaT', np.nan)\n",
    "  #mortgages_data[i]  = mortgages_data[i].fillna(0, inplace = True)\n",
    "  # mortgages_data['Most Recent Default Date'] = mortgages_data['Most Recent Default Date'].fillna(0, inplace = True)\n",
    "  # mortgages_data['Most Recent Default Date'] = mortgages_data['Most Recent Default Date']\n"
   ]
  },
  {
   "cell_type": "code",
   "execution_count": null,
   "metadata": {
    "id": "ij1L7FtnnkbD"
   },
   "outputs": [],
   "source": [
    "# Create Default Status column and mark the classes\n",
    "\n",
    "mortgages_data['Most Recent Default Date'] = mortgages_data['Most Recent Default Date'].apply(lambda x: 0 if x == 'NaT' else 1) \n",
    "mortgages_data['Default Status'] = mortgages_data['Most Recent Default Date']"
   ]
  },
  {
   "cell_type": "code",
   "execution_count": null,
   "metadata": {
    "colab": {
     "base_uri": "https://localhost:8080/",
     "height": 850
    },
    "id": "ZGAcS6rXqcer",
    "outputId": "737ea87b-c11b-4c1c-9d12-79840ff8bbe0"
   },
   "outputs": [
    {
     "data": {
      "text/html": [
       "\n",
       "  <div id=\"df-37afc78f-7741-4e62-a53f-c291b0f40029\">\n",
       "    <div class=\"colab-df-container\">\n",
       "      <div>\n",
       "<style scoped>\n",
       "    .dataframe tbody tr th:only-of-type {\n",
       "        vertical-align: middle;\n",
       "    }\n",
       "\n",
       "    .dataframe tbody tr th {\n",
       "        vertical-align: top;\n",
       "    }\n",
       "\n",
       "    .dataframe thead th {\n",
       "        text-align: right;\n",
       "    }\n",
       "</style>\n",
       "<table border=\"1\" class=\"dataframe\">\n",
       "  <thead>\n",
       "    <tr style=\"text-align: right;\">\n",
       "      <th></th>\n",
       "      <th>POA / Influencer</th>\n",
       "      <th>Property Type</th>\n",
       "      <th>City</th>\n",
       "      <th>Province</th>\n",
       "      <th>client age3</th>\n",
       "      <th>Credit Score</th>\n",
       "      <th>Monthly income</th>\n",
       "      <th>First Appraisal Date</th>\n",
       "      <th>First Appraisal Value</th>\n",
       "      <th>Funded Date</th>\n",
       "      <th>Days To Fund</th>\n",
       "      <th>Total Approved Amount</th>\n",
       "      <th>Most Recent Default Date</th>\n",
       "      <th>Total Approved Amount_corrected_</th>\n",
       "      <th>Default Status</th>\n",
       "    </tr>\n",
       "  </thead>\n",
       "  <tbody>\n",
       "    <tr>\n",
       "      <th>5</th>\n",
       "      <td>No</td>\n",
       "      <td>Single Family Dwelling</td>\n",
       "      <td>Thornhill</td>\n",
       "      <td>Ontario</td>\n",
       "      <td>64.228571</td>\n",
       "      <td>834.500000</td>\n",
       "      <td>1800.0</td>\n",
       "      <td>2017-07-03</td>\n",
       "      <td>1360000</td>\n",
       "      <td>2017-07-28</td>\n",
       "      <td>25</td>\n",
       "      <td>475000.0</td>\n",
       "      <td>0</td>\n",
       "      <td>340000.0</td>\n",
       "      <td>0</td>\n",
       "    </tr>\n",
       "    <tr>\n",
       "      <th>16</th>\n",
       "      <td>No</td>\n",
       "      <td>Condo - Apartment Style</td>\n",
       "      <td>Toronto</td>\n",
       "      <td>Ontario</td>\n",
       "      <td>84.014851</td>\n",
       "      <td>753.666667</td>\n",
       "      <td>1800.0</td>\n",
       "      <td>2017-07-28</td>\n",
       "      <td>1360000</td>\n",
       "      <td>2017-10-06</td>\n",
       "      <td>50</td>\n",
       "      <td>600000.0</td>\n",
       "      <td>0</td>\n",
       "      <td>340000.0</td>\n",
       "      <td>0</td>\n",
       "    </tr>\n",
       "    <tr>\n",
       "      <th>19</th>\n",
       "      <td>No</td>\n",
       "      <td>Single Family Dwelling</td>\n",
       "      <td>Coquitlam</td>\n",
       "      <td>British Columbia</td>\n",
       "      <td>81.649351</td>\n",
       "      <td>791.666667</td>\n",
       "      <td>1800.0</td>\n",
       "      <td>2017-08-08</td>\n",
       "      <td>1360000</td>\n",
       "      <td>2017-08-28</td>\n",
       "      <td>18</td>\n",
       "      <td>347500.0</td>\n",
       "      <td>0</td>\n",
       "      <td>340000.0</td>\n",
       "      <td>0</td>\n",
       "    </tr>\n",
       "    <tr>\n",
       "      <th>25</th>\n",
       "      <td>Yes</td>\n",
       "      <td>Single Family Dwelling</td>\n",
       "      <td>Vancouver</td>\n",
       "      <td>British Columbia</td>\n",
       "      <td>81.649351</td>\n",
       "      <td>849.000000</td>\n",
       "      <td>1800.0</td>\n",
       "      <td>2017-11-20</td>\n",
       "      <td>1360000</td>\n",
       "      <td>2017-12-19</td>\n",
       "      <td>23</td>\n",
       "      <td>906250.0</td>\n",
       "      <td>0</td>\n",
       "      <td>340000.0</td>\n",
       "      <td>0</td>\n",
       "    </tr>\n",
       "    <tr>\n",
       "      <th>35</th>\n",
       "      <td>No</td>\n",
       "      <td>Single Family Dwelling</td>\n",
       "      <td>Markham</td>\n",
       "      <td>Ontario</td>\n",
       "      <td>81.649351</td>\n",
       "      <td>827.000000</td>\n",
       "      <td>1800.0</td>\n",
       "      <td>2017-11-07</td>\n",
       "      <td>1360000</td>\n",
       "      <td>2017-12-11</td>\n",
       "      <td>30</td>\n",
       "      <td>368750.0</td>\n",
       "      <td>0</td>\n",
       "      <td>340000.0</td>\n",
       "      <td>0</td>\n",
       "    </tr>\n",
       "    <tr>\n",
       "      <th>...</th>\n",
       "      <td>...</td>\n",
       "      <td>...</td>\n",
       "      <td>...</td>\n",
       "      <td>...</td>\n",
       "      <td>...</td>\n",
       "      <td>...</td>\n",
       "      <td>...</td>\n",
       "      <td>...</td>\n",
       "      <td>...</td>\n",
       "      <td>...</td>\n",
       "      <td>...</td>\n",
       "      <td>...</td>\n",
       "      <td>...</td>\n",
       "      <td>...</td>\n",
       "      <td>...</td>\n",
       "    </tr>\n",
       "    <tr>\n",
       "      <th>3504</th>\n",
       "      <td>No</td>\n",
       "      <td>Single Family Dwelling</td>\n",
       "      <td>Toronto</td>\n",
       "      <td>Ontario</td>\n",
       "      <td>75.480370</td>\n",
       "      <td>732.333333</td>\n",
       "      <td>1800.0</td>\n",
       "      <td>2017-04-24</td>\n",
       "      <td>1360000</td>\n",
       "      <td>2017-05-15</td>\n",
       "      <td>13</td>\n",
       "      <td>493750.0</td>\n",
       "      <td>1</td>\n",
       "      <td>340000.0</td>\n",
       "      <td>1</td>\n",
       "    </tr>\n",
       "    <tr>\n",
       "      <th>3541</th>\n",
       "      <td>No</td>\n",
       "      <td>Single Family Dwelling</td>\n",
       "      <td>Toronto</td>\n",
       "      <td>Ontario</td>\n",
       "      <td>84.014851</td>\n",
       "      <td>264.333333</td>\n",
       "      <td>1800.0</td>\n",
       "      <td>2017-09-21</td>\n",
       "      <td>1360000</td>\n",
       "      <td>2017-11-28</td>\n",
       "      <td>45</td>\n",
       "      <td>350000.0</td>\n",
       "      <td>0</td>\n",
       "      <td>340000.0</td>\n",
       "      <td>0</td>\n",
       "    </tr>\n",
       "    <tr>\n",
       "      <th>3542</th>\n",
       "      <td>Yes</td>\n",
       "      <td>Single Family Dwelling</td>\n",
       "      <td>Vancouver</td>\n",
       "      <td>British Columbia</td>\n",
       "      <td>84.014851</td>\n",
       "      <td>894.000000</td>\n",
       "      <td>1800.0</td>\n",
       "      <td>2017-09-21</td>\n",
       "      <td>1360000</td>\n",
       "      <td>2017-10-20</td>\n",
       "      <td>24</td>\n",
       "      <td>475000.0</td>\n",
       "      <td>0</td>\n",
       "      <td>340000.0</td>\n",
       "      <td>0</td>\n",
       "    </tr>\n",
       "    <tr>\n",
       "      <th>3544</th>\n",
       "      <td>No</td>\n",
       "      <td>Mobile Home</td>\n",
       "      <td>Langley</td>\n",
       "      <td>British Columbia</td>\n",
       "      <td>63.153846</td>\n",
       "      <td>617.000000</td>\n",
       "      <td>1800.0</td>\n",
       "      <td>2017-10-31</td>\n",
       "      <td>1360000</td>\n",
       "      <td>2017-11-28</td>\n",
       "      <td>32</td>\n",
       "      <td>405000.0</td>\n",
       "      <td>0</td>\n",
       "      <td>340000.0</td>\n",
       "      <td>0</td>\n",
       "    </tr>\n",
       "    <tr>\n",
       "      <th>3563</th>\n",
       "      <td>Yes</td>\n",
       "      <td>Single Family Dwelling</td>\n",
       "      <td>Richmond</td>\n",
       "      <td>British Columbia</td>\n",
       "      <td>67.064171</td>\n",
       "      <td>0.000000</td>\n",
       "      <td>1800.0</td>\n",
       "      <td>2017-03-31</td>\n",
       "      <td>1360000</td>\n",
       "      <td>2017-04-25</td>\n",
       "      <td>20</td>\n",
       "      <td>775000.0</td>\n",
       "      <td>0</td>\n",
       "      <td>340000.0</td>\n",
       "      <td>0</td>\n",
       "    </tr>\n",
       "  </tbody>\n",
       "</table>\n",
       "<p>257 rows × 15 columns</p>\n",
       "</div>\n",
       "      <button class=\"colab-df-convert\" onclick=\"convertToInteractive('df-37afc78f-7741-4e62-a53f-c291b0f40029')\"\n",
       "              title=\"Convert this dataframe to an interactive table.\"\n",
       "              style=\"display:none;\">\n",
       "        \n",
       "  <svg xmlns=\"http://www.w3.org/2000/svg\" height=\"24px\"viewBox=\"0 0 24 24\"\n",
       "       width=\"24px\">\n",
       "    <path d=\"M0 0h24v24H0V0z\" fill=\"none\"/>\n",
       "    <path d=\"M18.56 5.44l.94 2.06.94-2.06 2.06-.94-2.06-.94-.94-2.06-.94 2.06-2.06.94zm-11 1L8.5 8.5l.94-2.06 2.06-.94-2.06-.94L8.5 2.5l-.94 2.06-2.06.94zm10 10l.94 2.06.94-2.06 2.06-.94-2.06-.94-.94-2.06-.94 2.06-2.06.94z\"/><path d=\"M17.41 7.96l-1.37-1.37c-.4-.4-.92-.59-1.43-.59-.52 0-1.04.2-1.43.59L10.3 9.45l-7.72 7.72c-.78.78-.78 2.05 0 2.83L4 21.41c.39.39.9.59 1.41.59.51 0 1.02-.2 1.41-.59l7.78-7.78 2.81-2.81c.8-.78.8-2.07 0-2.86zM5.41 20L4 18.59l7.72-7.72 1.47 1.35L5.41 20z\"/>\n",
       "  </svg>\n",
       "      </button>\n",
       "      \n",
       "  <style>\n",
       "    .colab-df-container {\n",
       "      display:flex;\n",
       "      flex-wrap:wrap;\n",
       "      gap: 12px;\n",
       "    }\n",
       "\n",
       "    .colab-df-convert {\n",
       "      background-color: #E8F0FE;\n",
       "      border: none;\n",
       "      border-radius: 50%;\n",
       "      cursor: pointer;\n",
       "      display: none;\n",
       "      fill: #1967D2;\n",
       "      height: 32px;\n",
       "      padding: 0 0 0 0;\n",
       "      width: 32px;\n",
       "    }\n",
       "\n",
       "    .colab-df-convert:hover {\n",
       "      background-color: #E2EBFA;\n",
       "      box-shadow: 0px 1px 2px rgba(60, 64, 67, 0.3), 0px 1px 3px 1px rgba(60, 64, 67, 0.15);\n",
       "      fill: #174EA6;\n",
       "    }\n",
       "\n",
       "    [theme=dark] .colab-df-convert {\n",
       "      background-color: #3B4455;\n",
       "      fill: #D2E3FC;\n",
       "    }\n",
       "\n",
       "    [theme=dark] .colab-df-convert:hover {\n",
       "      background-color: #434B5C;\n",
       "      box-shadow: 0px 1px 3px 1px rgba(0, 0, 0, 0.15);\n",
       "      filter: drop-shadow(0px 1px 2px rgba(0, 0, 0, 0.3));\n",
       "      fill: #FFFFFF;\n",
       "    }\n",
       "  </style>\n",
       "\n",
       "      <script>\n",
       "        const buttonEl =\n",
       "          document.querySelector('#df-37afc78f-7741-4e62-a53f-c291b0f40029 button.colab-df-convert');\n",
       "        buttonEl.style.display =\n",
       "          google.colab.kernel.accessAllowed ? 'block' : 'none';\n",
       "\n",
       "        async function convertToInteractive(key) {\n",
       "          const element = document.querySelector('#df-37afc78f-7741-4e62-a53f-c291b0f40029');\n",
       "          const dataTable =\n",
       "            await google.colab.kernel.invokeFunction('convertToInteractive',\n",
       "                                                     [key], {});\n",
       "          if (!dataTable) return;\n",
       "\n",
       "          const docLinkHtml = 'Like what you see? Visit the ' +\n",
       "            '<a target=\"_blank\" href=https://colab.research.google.com/notebooks/data_table.ipynb>data table notebook</a>'\n",
       "            + ' to learn more about interactive tables.';\n",
       "          element.innerHTML = '';\n",
       "          dataTable['output_type'] = 'display_data';\n",
       "          await google.colab.output.renderOutput(dataTable, element);\n",
       "          const docLink = document.createElement('div');\n",
       "          docLink.innerHTML = docLinkHtml;\n",
       "          element.appendChild(docLink);\n",
       "        }\n",
       "      </script>\n",
       "    </div>\n",
       "  </div>\n",
       "  "
      ],
      "text/plain": [
       "     POA / Influencer  ... Default Status\n",
       "5                  No  ...              0\n",
       "16                 No  ...              0\n",
       "19                 No  ...              0\n",
       "25                Yes  ...              0\n",
       "35                 No  ...              0\n",
       "...               ...  ...            ...\n",
       "3504               No  ...              1\n",
       "3541               No  ...              0\n",
       "3542              Yes  ...              0\n",
       "3544               No  ...              0\n",
       "3563              Yes  ...              0\n",
       "\n",
       "[257 rows x 15 columns]"
      ]
     },
     "execution_count": 40,
     "metadata": {},
     "output_type": "execute_result"
    }
   ],
   "source": [
    "# Check the number of rows in which the Total Approved Amount has been corrected due to the mormalization of the Appraisal Amount - 257 - all matches \n",
    "\n",
    "mortgages_data.loc[~(mortgages_data['Total Approved Amount'] == mortgages_data['Total Approved Amount_corrected_'])]"
   ]
  },
  {
   "cell_type": "markdown",
   "metadata": {
    "id": "0LVmP049REqZ"
   },
   "source": [
    "The below helps us ensure that the Total approved amount won't exceed the 25% peg."
   ]
  },
  {
   "cell_type": "code",
   "execution_count": null,
   "metadata": {
    "colab": {
     "base_uri": "https://localhost:8080/"
    },
    "id": "Apo8On8SsPP3",
    "outputId": "b108f6f2-afe9-4d67-9da5-6e4f662cc6f6"
   },
   "outputs": [
    {
     "data": {
      "text/plain": [
       "25.0"
      ]
     },
     "execution_count": 41,
     "metadata": {},
     "output_type": "execute_result"
    }
   ],
   "source": [
    "round(100*mortgages_data['Total Approved Amount_corrected_']/mortgages_data['First Appraisal Value'],2).mean()"
   ]
  },
  {
   "cell_type": "markdown",
   "metadata": {
    "id": "1ObKANSbRNuY"
   },
   "source": [
    "If we examine the prevalence of default by city, we don't observe any significant spikes, and the largest cities expectedly have more instances of default simply as a function of their size."
   ]
  },
  {
   "cell_type": "code",
   "execution_count": null,
   "metadata": {
    "colab": {
     "base_uri": "https://localhost:8080/"
    },
    "id": "ljWDzn5BCmWG",
    "outputId": "820916be-2c52-4865-8a26-114a7fd861be"
   },
   "outputs": [
    {
     "data": {
      "text/plain": [
       "Toronto           37\n",
       "Calgary           22\n",
       "Edmonton          18\n",
       "Montreal          14\n",
       "Mississauga       13\n",
       "                  ..\n",
       "Chatham            1\n",
       "Qualicum Beach     1\n",
       "Whitby             1\n",
       "Oka                1\n",
       "Coleman            1\n",
       "Name: City, Length: 261, dtype: int64"
      ]
     },
     "execution_count": 42,
     "metadata": {},
     "output_type": "execute_result"
    }
   ],
   "source": [
    "# Split of defaults per city\n",
    "\n",
    "mortgages_data[mortgages_data['Default Status'] == 1]['City'].value_counts()"
   ]
  },
  {
   "cell_type": "markdown",
   "metadata": {
    "id": "8_d4LkiIRkbc"
   },
   "source": [
    "### A Glimpse into Credit Score"
   ]
  },
  {
   "cell_type": "code",
   "execution_count": null,
   "metadata": {
    "colab": {
     "base_uri": "https://localhost:8080/",
     "height": 296
    },
    "id": "vJ0X54jfDW95",
    "outputId": "ed4d8445-1c3c-41ba-9e46-8b57f3063036"
   },
   "outputs": [
    {
     "data": {
      "image/png": "[encoded data removed]",
      "text/plain": [
       "<Figure size 432x288 with 1 Axes>"
      ]
     },
     "metadata": {},
     "output_type": "display_data"
    }
   ],
   "source": [
    "# Distribution of Credit Score\n",
    "\n",
    "plt.figure()\n",
    "plt.boxplot(mortgages_data['Credit Score'])\n",
    "plt.title('The distribution of Credit Score')\n",
    "plt.ylabel('Credit Score')\n",
    "plt.show()"
   ]
  },
  {
   "cell_type": "code",
   "execution_count": null,
   "metadata": {
    "colab": {
     "base_uri": "https://localhost:8080/"
    },
    "id": "k481TbEqDfVe",
    "outputId": "90dcca58-21c9-407c-a802-30890f2433ca"
   },
   "outputs": [
    {
     "data": {
      "text/plain": [
       "[{'cihi': 761.8240559127116,\n",
       "  'cilo': 752.1759440872884,\n",
       "  'fliers': array([  0.        ,   0.        , 361.        ,   0.        ,\n",
       "           0.        ,   0.        , 372.        , 283.66666667,\n",
       "           0.        ,   0.        ,   0.        ,   0.        ,\n",
       "           0.        ,   0.        , 352.        ,   0.        ,\n",
       "           0.        , 342.5       ,   0.        ,   0.        ,\n",
       "           0.        ,   0.        ,   0.        ,   0.        ,\n",
       "         327.5       ,   0.        ,   0.        ,   0.        ,\n",
       "         295.5       ,   0.        ,   0.        ,   0.        ,\n",
       "         300.        , 300.        ,   0.        ,   0.        ,\n",
       "         306.5       ,   0.        ,   0.        ,   0.        ,\n",
       "           0.        ,   0.        , 240.66666667,   0.        ,\n",
       "           0.        ,   0.        ,   0.        ,   0.        ,\n",
       "           0.        ,   0.        ,   0.        ,   0.        ,\n",
       "         300.        ,   0.        , 219.        ,   0.        ,\n",
       "           0.        , 300.        ,   0.        ,   0.        ,\n",
       "           0.        ,   0.        ,   0.        ,   0.        ,\n",
       "           0.        ,   0.        ,   0.        ,   0.        ,\n",
       "           0.        , 344.5       ,   0.        ,   0.        ,\n",
       "           0.        ,   0.        ,   0.        ,   0.        ,\n",
       "           0.        ,   0.        ,   0.        ,   0.        ,\n",
       "           0.        ,   0.        ,   0.        ,   0.        ,\n",
       "           0.        ,   0.        ,   0.        ,   0.        ,\n",
       "           0.        , 378.        ,   0.        ,   0.        ,\n",
       "           0.        ,   0.        ,   0.        , 238.33333333,\n",
       "           0.        ,   0.        , 222.33333333,   0.        ,\n",
       "           0.        ,   0.        ,   0.        ,   0.        ,\n",
       "           0.        , 240.33333333,   0.        ,   0.        ,\n",
       "           0.        ,   0.        ,   0.        ,   0.        ,\n",
       "           0.        ,   0.        ,   0.        , 342.        ,\n",
       "           0.        ,   0.        ,   0.        ,   0.        ,\n",
       "           0.        ,   0.        ,   0.        ,   0.        ,\n",
       "           0.        ,   0.        ,   0.        ,   0.        ,\n",
       "           0.        ,   0.        ,   0.        , 285.33333333,\n",
       "           0.        , 300.        , 328.5       ,   0.        ,\n",
       "           0.        ,   0.        ,   0.        ,   0.        ,\n",
       "         300.        , 235.33333333,   0.        ,   0.        ,\n",
       "           0.        ,   0.        ,   0.        ,   0.        ,\n",
       "           0.        ,   0.        , 319.5       , 298.33333333,\n",
       "           0.        ,   0.        , 284.66666667,   0.        ,\n",
       "           0.        , 300.        ,   0.        , 273.33333333,\n",
       "           0.        ,   0.        , 337.5       , 300.        ,\n",
       "           0.        ,   0.        ,   0.        ,   0.        ,\n",
       "           0.        ,   0.        , 357.5       , 373.5       ,\n",
       "           0.        ,   0.        ,   0.        ,   0.        ,\n",
       "           0.        ,   0.        ,   0.        ,   0.        ,\n",
       "           0.        ,   0.        ,   0.        ,   0.        ,\n",
       "           0.        , 336.5       , 240.5       , 300.        ,\n",
       "           0.        ,   0.        ,   0.        ,   0.        ,\n",
       "           0.        ,   0.        ,   0.        ,   0.        ,\n",
       "         324.        ,   0.        ,   0.        , 344.        ,\n",
       "           0.        ,   0.        ,   0.        ,   0.        ,\n",
       "         300.        , 300.        ,   0.        ,   0.        ,\n",
       "           0.        ,   0.        , 352.        , 189.66666667,\n",
       "           0.        , 340.        , 261.66666667,   0.        ,\n",
       "           0.        ,   0.        , 310.5       ,   0.        ,\n",
       "           0.        ,   0.        ,   0.        ,   0.        ,\n",
       "           0.        ,   0.        , 244.        , 221.33333333,\n",
       "           0.        ,   0.        ,   0.        ,   0.        ,\n",
       "         264.33333333,   0.        ,   0.        , 300.        ,\n",
       "           0.        ,   0.        ,   0.        ]),\n",
       "  'iqr': 184.0,\n",
       "  'mean': 705.0634272169549,\n",
       "  'med': 757.0,\n",
       "  'q1': 655.0,\n",
       "  'q3': 839.0,\n",
       "  'whishi': 900.0,\n",
       "  'whislo': 380.0}]"
      ]
     },
     "execution_count": 44,
     "metadata": {},
     "output_type": "execute_result"
    }
   ],
   "source": [
    "# Show boxplot statistics for Credit Score \n",
    "\n",
    "boxplot_stats(mortgages_data['Credit Score'])"
   ]
  },
  {
   "cell_type": "markdown",
   "metadata": {
    "id": "FTInrOteR2iq"
   },
   "source": [
    "Based on the statistics, we will consider 655 credit score as the left-hand side cut-off for auto-adjudication, as it is still a decent score which we know to be associated with no-default."
   ]
  },
  {
   "cell_type": "markdown",
   "metadata": {
    "id": "1j6uZHsySQ1C"
   },
   "source": [
    "# Feasibility Analysis "
   ]
  },
  {
   "cell_type": "markdown",
   "metadata": {
    "id": "Awpt64-USmCg"
   },
   "source": [
    "#### **List of Assumptions**\n",
    "\n",
    "- 12.29% - an expected growth rate for the coming 5 years (based on the previous 5 years of data);\n",
    "- 26 days - an average number of days to get funding now;\n",
    "- $500 k - the maximum cost of implementation of the project (excluding sunk costs such as the salaries of the staff already working);\n",
    "- 0.5 h - the time required by a credit officer to review and approve a mortgage loan request;\n",
    "- CAD 100 k - the salary of a credit officer per annum;\n",
    "- 5% - a long-term growth rate;\n",
    "- 40 h per week - length of a working week of a credit officer;\n",
    "- 52 weeks - the number of weeks per year;\n",
    "- 13% - the cost of capital of the bank and the appropriate discount rate;\n",
    "- 5 years - the project's life cycle.\n",
    "\n"
   ]
  },
  {
   "cell_type": "markdown",
   "metadata": {
    "id": "xktCseqdz1--"
   },
   "source": [
    "\n",
    "\n",
    "**Feasibility Analysis**\n",
    "\n",
    "Our business opportunity involves using the momentum to capture a larger chunk of the almost untouched reverse mortgage pie while the space is not yet filled with the competition. \n",
    "\n",
    "We might be able to achieve this by providing our clients with the best customer experience.\n",
    "\n",
    "As we know from the above, it takes us on average 26 days to fund a mortgage (a median). By employing auto-adjudication, we might be able to shorten this by 2 days. \n",
    "\n",
    "The question is thus, \"How feasible is it to process our reverse mortgage loan requests through auto-adjudication?\"\n",
    "\n",
    "The **feasibility analysis** typically requires answering the following questions:\n",
    "- Do we have the technology to be able to do this? - In our case, the answer is YES.\n",
    "- Do we have people resources? - We might leverage our internal risk management resources, business analysts and a third-party vendor to create systems that would perform auto-adjudication. The costs of building and implementation might vary from US250 k to US500 k (this assumption should be verified against concrete vendor proposals), excluding service costs.\n",
    "- What ROI does this project yield? -To answer this question, we need to perform further analysis.\n",
    "- What is the project's life cycle? - Since the space is fast-paced, we will look only at the coming 5 years."
   ]
  },
  {
   "cell_type": "markdown",
   "metadata": {
    "id": "j1Jgfkhf3qxV"
   },
   "source": [
    "**Steps**\n",
    "\n",
    "We will skip some of the traditional steps that comprise a feasibility study, because they are not yet relevant to us at this point. However, we will focus on the most crucial aspects of the feasibility study that will give us a glimpse into what we might expect if we decide to implement the auto-adjudication:\n",
    "\n",
    "- Conduct a high-level market analysis;\n",
    "- Discuss the project's tangible/intangible values; \n",
    "- Discuss the project's ROI and NPV;\n",
    "- Discuss the recommendations.\n",
    "\n",
    "\n",
    "\n",
    "\n"
   ]
  },
  {
   "cell_type": "markdown",
   "metadata": {
    "id": "VwejQyKd5bx5"
   },
   "source": [
    "**Market Analysis**\n",
    "\n",
    "We conducted a high-level market analysis and included it in a separate file attached to this document."
   ]
  },
  {
   "cell_type": "markdown",
   "metadata": {
    "id": "s5ZCTWO05jqH"
   },
   "source": [
    "**Tangible Value**\n",
    "\n",
    "The project's tangible value will transpire due to additional savings and earnings.\n",
    "\n",
    "The **savings** component of the tangible value shall come about due to the increased ability of the existing operational and risk-management staff to review and decide upon higher volumes of credit dossiers, which is expected to continue growing at 12.3% p.a. \n",
    "\n",
    "Another part of the savings component includes the savings from engagement in handling potential default on behalf of the client. Contemporary machine learning models (KNN, Logistic Regression, and Decision Trees) are believed to be capable of helping the bank take more careful decisions that in the future will lead to fewer default events and thus create savings for the bank.\n",
    "\n",
    "The **earnings** component consists of additional NII that the bank is able to book earlier in the year and increased throughput (the ability to process and approve larger volumes of loans). \n",
    "\n",
    "The Intangible value of the project shall transpire due to the positive impact of this offering on the bank's marketing effort and increased brand-recognition due to the application of this technology."
   ]
  },
  {
   "cell_type": "markdown",
   "metadata": {
    "id": "ruR9CIoL_gf9"
   },
   "source": [
    "**A Brief Description of Auto-Adjudication**\n",
    "\n",
    "Before we decide to implement the process, we should set the conditions that might be followed for it. These conditions are subject to a rigorous testing by the risk department and compliance to ensure their adherence to the existing regulation.\n",
    "\n",
    "**Which Mortgages Might be Subject to Auto-Adjudication:**\n",
    "\n",
    "- the appraisal amount below CAD 1,360,000 (the high end of the distribution of house prices that we've previously worked with, after curing the few outliers); \n",
    "- the monthly income is equal to or exceeds CAD 1,800 (median);\n",
    "- the age does not exceed 81 years (75% percentile) considering the life expectancy in this country being 81 years of age.\n",
    "- credit score does not fall below 655.0, which is Q1 and 'fair credit'.\n",
    "- No conditions apply to 'POA / Influencer', 'Property Type', 'City' or 'Province'.\n",
    "\n",
    "**Approval by Credit Officer:**\n",
    "- any requests which violate one or more conditions for Auto-Adjudication are subject to a manual review by a credit officer;\n",
    "- a suggestion (approve/reject) by a machine learning algorithm can and should be taken into account by the credit officer when taking a final decision on a credit request that violates the auto-adjudication conditions.\n",
    "\n",
    "\n",
    "\n",
    "\n"
   ]
  },
  {
   "cell_type": "markdown",
   "metadata": {
    "id": "u18AVjdQWOEr"
   },
   "source": [
    "### Financial Projection"
   ]
  },
  {
   "cell_type": "code",
   "execution_count": null,
   "metadata": {
    "colab": {
     "base_uri": "https://localhost:8080/"
    },
    "id": "JaqXoC-xz0dK",
    "outputId": "f1e81f9a-af44-4ebf-8778-794e1162cb9d"
   },
   "outputs": [
    {
     "name": "stdout",
     "output_type": "stream",
     "text": [
      "1681.0\n",
      "0.8081730769230769\n"
     ]
    }
   ],
   "source": [
    "# Financial projection\n",
    "\n",
    "count_mortgages_2017 = mortgages_data[mortgages_data['First Appraisal Date'] >= '2017-01-01']['First Appraisal Date'].value_counts().sum()\n",
    "\n",
    "# Count hours spent on approvals assuming 30 mins per application \n",
    "\n",
    "hours_spent_on_approvals = 0.5*count_mortgages_2017\n",
    "print(hours_spent_on_approvals)\n",
    "\n",
    "person_hours_required_staff_p_a = hours_spent_on_approvals/(52*40)\n",
    "print(person_hours_required_staff_p_a)"
   ]
  },
  {
   "cell_type": "markdown",
   "metadata": {
    "id": "gzE9M1GLWjDZ"
   },
   "source": [
    "If 30 minutes is required on average to approve a loan manually, the total volume of mortgage loans approved by the bank in 2017 required 1681 hours of time of credit officer work, which is roughly 80% of the entire amount of working hours one credit officer works per year."
   ]
  },
  {
   "cell_type": "code",
   "execution_count": null,
   "metadata": {
    "colab": {
     "base_uri": "https://localhost:8080/"
    },
    "id": "Pm4OQLHLbUa1",
    "outputId": "9d39a581-642a-4db0-b331-deef144aaf1c"
   },
   "outputs": [
    {
     "name": "stdout",
     "output_type": "stream",
     "text": [
      "76.62, %\n"
     ]
    }
   ],
   "source": [
    "# Percentage of Loans that Could Go through Auto-Adjudication\n",
    "\n",
    "count_mortgages_2017_auto_adj = mortgages_data[(mortgages_data['First Appraisal Date'] >= '2017-01-01') & \n",
    "                                               (mortgages_data['First Appraisal Value'] <= 1360000) & (mortgages_data['Monthly income'] >=1800) & (mortgages_data['Credit Score']>=655)]['First Appraisal Date'].value_counts().sum()\n",
    "pct_auto_adj_2017 = count_mortgages_2017_auto_adj/count_mortgages_2017\n",
    "print(f'{round(100*pct_auto_adj_2017,2)}, %')"
   ]
  },
  {
   "cell_type": "markdown",
   "metadata": {
    "id": "1SjewafDXB3p"
   },
   "source": [
    "If we check the entire volume of mortgage loans that were approved in 2017 against the conditions for auto-adjudication, we realize that 76.62% of those loans could have been approved automatically."
   ]
  },
  {
   "cell_type": "code",
   "execution_count": null,
   "metadata": {
    "colab": {
     "base_uri": "https://localhost:8080/"
    },
    "id": "4Hi5ptKT-QfZ",
    "outputId": "41c61c69-f30f-4482-b1a1-d30477dea2f7"
   },
   "outputs": [
    {
     "data": {
      "text/plain": [
       "393.0"
      ]
     },
     "execution_count": 47,
     "metadata": {},
     "output_type": "execute_result"
    }
   ],
   "source": [
    "# amount of hours needed from Credit officers given auto-adjudication\n",
    "\n",
    "person_hours_required_staff_p_a_given_auto_adj = (hours_spent_on_approvals-hours_spent_on_approvals*pct_auto_adj_2017)\n",
    "person_hours_required_staff_p_a_given_auto_adj # a significant time saving "
   ]
  },
  {
   "cell_type": "markdown",
   "metadata": {
    "id": "nyDi6OafXQHC"
   },
   "source": [
    "The remaining mortgage loan requests that were subject to manual approval by a credit officer would have required 293 hours of credit officer work, which is significantly less than what was required without auto-adjudication. "
   ]
  },
  {
   "cell_type": "code",
   "execution_count": null,
   "metadata": {
    "colab": {
     "base_uri": "https://localhost:8080/"
    },
    "id": "UW3bsM4OIlfF",
    "outputId": "9b53f47b-9b37-4009-a5b1-04e79b8d0c26"
   },
   "outputs": [
    {
     "data": {
      "text/plain": [
       "1288.0"
      ]
     },
     "execution_count": 48,
     "metadata": {},
     "output_type": "execute_result"
    }
   ],
   "source": [
    "# Hours that could be spent through  auto-adjudication \n",
    "\n",
    "hours_spent_on_approvals*pct_auto_adj_2017"
   ]
  },
  {
   "cell_type": "markdown",
   "metadata": {
    "id": "gVsG8ozlXoGM"
   },
   "source": [
    "In other words, auto-adjudication would have saved the bank 1288 hours of credit officer work that could have been spent on other important tasks that matter for the success of the organization. "
   ]
  },
  {
   "cell_type": "markdown",
   "metadata": {
    "id": "kQgrUQeeZzIp"
   },
   "source": [
    "#### Saving on Credit Officer Salary"
   ]
  },
  {
   "cell_type": "code",
   "execution_count": null,
   "metadata": {
    "colab": {
     "base_uri": "https://localhost:8080/"
    },
    "id": "WP5yTiH_nmM0",
    "outputId": "9a25008c-de79-427e-e96c-dec049338912"
   },
   "outputs": [
    {
     "name": "stdout",
     "output_type": "stream",
     "text": [
      "48.07692307692308\n",
      "61923.07692307694\n"
     ]
    }
   ],
   "source": [
    "# Credit Officer Salary \n",
    "\n",
    "salary_credit_officer_per_annum = 100000\n",
    "salary_credit_officer_per_hour = salary_credit_officer_per_annum/(52*5*8) # salary of a credit officer per hour \n",
    "savings_2017 = salary_credit_officer_per_hour*hours_spent_on_approvals*pct_auto_adj_2017\n",
    "\n",
    "print(salary_credit_officer_per_hour)\n",
    "print(savings_2017)"
   ]
  },
  {
   "cell_type": "markdown",
   "metadata": {},
   "source": [
    "An hourly wage of a credit officer is ~CA 48. That will translate into a saving of CAD 61k in terms of working hours. There are many ways how this can be realized, but the most obvious way is to not hire additional resources and have the existing staff perform more work since they will have the time available at hand."
   ]
  },
  {
   "cell_type": "markdown",
   "metadata": {
    "id": "0qj8rZbwZpbs"
   },
   "source": [
    "#### Additional Interest Marging "
   ]
  },
  {
   "cell_type": "markdown",
   "metadata": {
    "id": "a3U0k-RmZT0n"
   },
   "source": [
    "Obviously, if during 2017 the auto-adjudication process was in place, the bank could have saved 2 days on most loans and book extra interest income in 2017 for those 2 days. Below, we will attempt to estimate the difference that it would have made in terms of interest margin."
   ]
  },
  {
   "cell_type": "code",
   "execution_count": null,
   "metadata": {
    "id": "W0W0hF8JtNto"
   },
   "outputs": [],
   "source": [
    "# Calculate the number of days that the mortgages could have been used in total in 2017 due to auto-adjudication\n",
    "\n",
    "total_days_saved = 2*count_mortgages_2017_auto_adj \n",
    "total_amount_auto_adj_mortgages = mortgages_data[(mortgages_data['First Appraisal Date'] >= '2017-01-01') & \n",
    "                                               (mortgages_data['First Appraisal Value'] <= 1360000) & (mortgages_data['Monthly income'] >=1800) & (mortgages_data['Credit Score']>=655)]['Total Approved Amount_corrected_'].sum()\n",
    "\n",
    "from datetime import datetime\n",
    "\n",
    "mortgages_data_earnings = mortgages_data.copy() \n",
    "\n",
    "mortgages_data_earnings['Additional_int_margin_with_auto_adj_2017'] = 0\n",
    "\n",
    "date_start = mortgages_data_earnings['Funded Date']\n",
    "date_end = '2018-01-01'\n",
    "date_end = datetime.strptime(date_end, \"%Y-%m-%d\")\n",
    "\n",
    "mortgages_data_earnings['Days_mortgage_used_2017'] = date_end - mortgages_data_earnings['Funded Date']\n",
    "mortgages_data_earnings['Days_mortgage_used_2017'] = mortgages_data_earnings['Days_mortgage_used_2017'].astype('timedelta64[D]') # number of days the mortgage was used for in 2017"
   ]
  },
  {
   "cell_type": "code",
   "execution_count": null,
   "metadata": {
    "colab": {
     "base_uri": "https://localhost:8080/"
    },
    "id": "hpxjpWbDvlXk",
    "outputId": "71865fbc-bc7e-4312-b33f-826a89d3685c"
   },
   "outputs": [
    {
     "data": {
      "text/plain": [
       "0        40.0\n",
       "1        16.0\n",
       "2        33.0\n",
       "3        13.0\n",
       "4       322.0\n",
       "        ...  \n",
       "3590     65.0\n",
       "3591     57.0\n",
       "3592    250.0\n",
       "3593    258.0\n",
       "3594    268.0\n",
       "Name: Days_mortgage_used_2017_after_auto_adj, Length: 3586, dtype: float64"
      ]
     },
     "execution_count": 51,
     "metadata": {},
     "output_type": "execute_result"
    }
   ],
   "source": [
    "# Calculate the number of days for each mortgage that it would have been used for during 2017 given auto-adjudication \n",
    "\n",
    "mortgages_data_earnings['Days_mortgage_used_2017_after_auto_adj'] = mortgages_data_earnings['Days_mortgage_used_2017'] + 2\n",
    "mortgages_data_earnings['Days_mortgage_used_2017_after_auto_adj']"
   ]
  },
  {
   "cell_type": "markdown",
   "metadata": {
    "id": "XQ7hEi2sadm3"
   },
   "source": [
    "The above column demonstrates the number of days each mortgage loan would have been used in 2017 if it had been approved via auto-adjudication. "
   ]
  },
  {
   "cell_type": "code",
   "execution_count": null,
   "metadata": {
    "colab": {
     "base_uri": "https://localhost:8080/"
    },
    "id": "cQ4wwEgoj6LR",
    "outputId": "9f598cd1-4861-4ad1-d792-7e7dbe3c87c0"
   },
   "outputs": [
    {
     "name": "stdout",
     "output_type": "stream",
     "text": [
      "105422.55467267857\n"
     ]
    }
   ],
   "source": [
    "# Calculate additional interest margin that could have been realized in 2017 due to auto-adjudication \n",
    "\n",
    "NII = 0.04\n",
    "NII_daily = (NII/365)**(1) # compound NII per day\n",
    "\n",
    "mortgages_data_earnings['Additional_int_margin_with_auto_adj_2017'] = mortgages_data_earnings['Total Approved Amount_corrected_']*(1+NII_daily)**(2) - mortgages_data_earnings['Total Approved Amount_corrected_']\n",
    "\n",
    "earnings_2017 = mortgages_data_earnings['Additional_int_margin_with_auto_adj_2017'].sum()\n",
    "print(earnings_2017)\n"
   ]
  },
  {
   "cell_type": "markdown",
   "metadata": {
    "id": "g82brTjucJtn"
   },
   "source": [
    "The above calculation shows, that given our assumptions, the additional two days of  utilization by auto-adjudicated mortgage loans could have yielded more than CA$ 105 k of additional interest margin in 2017. "
   ]
  },
  {
   "cell_type": "markdown",
   "metadata": {
    "id": "ElHkKDJgcmGA"
   },
   "source": [
    "#### Calculate the NPV of the Project "
   ]
  },
  {
   "cell_type": "code",
   "execution_count": null,
   "metadata": {
    "id": "MYu3I_gVjOaN"
   },
   "outputs": [],
   "source": [
    "# NPV of the project - create a data dictionary \n",
    "\n",
    "npv_dict = {'Year': ['2017', '2018', '2019', '2020', '2021'] , 'Investment (CAD)' : [-500000*1.26, 0, 0, 0, 0],  'Savings (CAD)': [savings_2017, 0, 0, 0, 0], 'Earnings (CAD)': [earnings_2017, 0, 0, 0, 0], 'Total (CAD)': [0,0,0,0,0]}"
   ]
  },
  {
   "cell_type": "code",
   "execution_count": null,
   "metadata": {
    "id": "ML182PUGkDd_"
   },
   "outputs": [],
   "source": [
    "# Create NPV table \n",
    "\n",
    "project_forecast = pd.DataFrame.from_dict(npv_dict, orient='index')\n",
    "new_header = project_forecast.iloc[0] \n",
    "project_forecast = project_forecast[1:] \n",
    "project_forecast.columns = new_header\n",
    "\n",
    "projected_CAGR = 0.1229 #from our assumptions "
   ]
  },
  {
   "cell_type": "code",
   "execution_count": null,
   "metadata": {
    "colab": {
     "base_uri": "https://localhost:8080/",
     "height": 175
    },
    "id": "zZ5C28cm5TDf",
    "outputId": "7368b43f-9eb3-4e56-d1fc-185ea052ffcf"
   },
   "outputs": [
    {
     "data": {
      "text/html": [
       "\n",
       "  <div id=\"df-805bbb38-dae9-4501-8bf8-7496c72382e3\">\n",
       "    <div class=\"colab-df-container\">\n",
       "      <div>\n",
       "<style scoped>\n",
       "    .dataframe tbody tr th:only-of-type {\n",
       "        vertical-align: middle;\n",
       "    }\n",
       "\n",
       "    .dataframe tbody tr th {\n",
       "        vertical-align: top;\n",
       "    }\n",
       "\n",
       "    .dataframe thead th {\n",
       "        text-align: right;\n",
       "    }\n",
       "</style>\n",
       "<table border=\"1\" class=\"dataframe\">\n",
       "  <thead>\n",
       "    <tr style=\"text-align: right;\">\n",
       "      <th>Year</th>\n",
       "      <th>2017</th>\n",
       "      <th>2018</th>\n",
       "      <th>2019</th>\n",
       "      <th>2020</th>\n",
       "      <th>2021</th>\n",
       "    </tr>\n",
       "  </thead>\n",
       "  <tbody>\n",
       "    <tr>\n",
       "      <th>Investment (CAD)</th>\n",
       "      <td>-630000</td>\n",
       "      <td>0</td>\n",
       "      <td>0</td>\n",
       "      <td>0</td>\n",
       "      <td>0</td>\n",
       "    </tr>\n",
       "    <tr>\n",
       "      <th>Savings (CAD)</th>\n",
       "      <td>61923.1</td>\n",
       "      <td>69533.4</td>\n",
       "      <td>78079.1</td>\n",
       "      <td>87675</td>\n",
       "      <td>98450.3</td>\n",
       "    </tr>\n",
       "    <tr>\n",
       "      <th>Earnings (CAD)</th>\n",
       "      <td>105423</td>\n",
       "      <td>118379</td>\n",
       "      <td>132928</td>\n",
       "      <td>149265</td>\n",
       "      <td>167609</td>\n",
       "    </tr>\n",
       "    <tr>\n",
       "      <th>Total (CAD)</th>\n",
       "      <td>167346</td>\n",
       "      <td>187912</td>\n",
       "      <td>211007</td>\n",
       "      <td>236940</td>\n",
       "      <td>266059</td>\n",
       "    </tr>\n",
       "  </tbody>\n",
       "</table>\n",
       "</div>\n",
       "      <button class=\"colab-df-convert\" onclick=\"convertToInteractive('df-805bbb38-dae9-4501-8bf8-7496c72382e3')\"\n",
       "              title=\"Convert this dataframe to an interactive table.\"\n",
       "              style=\"display:none;\">\n",
       "        \n",
       "  <svg xmlns=\"http://www.w3.org/2000/svg\" height=\"24px\"viewBox=\"0 0 24 24\"\n",
       "       width=\"24px\">\n",
       "    <path d=\"M0 0h24v24H0V0z\" fill=\"none\"/>\n",
       "    <path d=\"M18.56 5.44l.94 2.06.94-2.06 2.06-.94-2.06-.94-.94-2.06-.94 2.06-2.06.94zm-11 1L8.5 8.5l.94-2.06 2.06-.94-2.06-.94L8.5 2.5l-.94 2.06-2.06.94zm10 10l.94 2.06.94-2.06 2.06-.94-2.06-.94-.94-2.06-.94 2.06-2.06.94z\"/><path d=\"M17.41 7.96l-1.37-1.37c-.4-.4-.92-.59-1.43-.59-.52 0-1.04.2-1.43.59L10.3 9.45l-7.72 7.72c-.78.78-.78 2.05 0 2.83L4 21.41c.39.39.9.59 1.41.59.51 0 1.02-.2 1.41-.59l7.78-7.78 2.81-2.81c.8-.78.8-2.07 0-2.86zM5.41 20L4 18.59l7.72-7.72 1.47 1.35L5.41 20z\"/>\n",
       "  </svg>\n",
       "      </button>\n",
       "      \n",
       "  <style>\n",
       "    .colab-df-container {\n",
       "      display:flex;\n",
       "      flex-wrap:wrap;\n",
       "      gap: 12px;\n",
       "    }\n",
       "\n",
       "    .colab-df-convert {\n",
       "      background-color: #E8F0FE;\n",
       "      border: none;\n",
       "      border-radius: 50%;\n",
       "      cursor: pointer;\n",
       "      display: none;\n",
       "      fill: #1967D2;\n",
       "      height: 32px;\n",
       "      padding: 0 0 0 0;\n",
       "      width: 32px;\n",
       "    }\n",
       "\n",
       "    .colab-df-convert:hover {\n",
       "      background-color: #E2EBFA;\n",
       "      box-shadow: 0px 1px 2px rgba(60, 64, 67, 0.3), 0px 1px 3px 1px rgba(60, 64, 67, 0.15);\n",
       "      fill: #174EA6;\n",
       "    }\n",
       "\n",
       "    [theme=dark] .colab-df-convert {\n",
       "      background-color: #3B4455;\n",
       "      fill: #D2E3FC;\n",
       "    }\n",
       "\n",
       "    [theme=dark] .colab-df-convert:hover {\n",
       "      background-color: #434B5C;\n",
       "      box-shadow: 0px 1px 3px 1px rgba(0, 0, 0, 0.15);\n",
       "      filter: drop-shadow(0px 1px 2px rgba(0, 0, 0, 0.3));\n",
       "      fill: #FFFFFF;\n",
       "    }\n",
       "  </style>\n",
       "\n",
       "      <script>\n",
       "        const buttonEl =\n",
       "          document.querySelector('#df-805bbb38-dae9-4501-8bf8-7496c72382e3 button.colab-df-convert');\n",
       "        buttonEl.style.display =\n",
       "          google.colab.kernel.accessAllowed ? 'block' : 'none';\n",
       "\n",
       "        async function convertToInteractive(key) {\n",
       "          const element = document.querySelector('#df-805bbb38-dae9-4501-8bf8-7496c72382e3');\n",
       "          const dataTable =\n",
       "            await google.colab.kernel.invokeFunction('convertToInteractive',\n",
       "                                                     [key], {});\n",
       "          if (!dataTable) return;\n",
       "\n",
       "          const docLinkHtml = 'Like what you see? Visit the ' +\n",
       "            '<a target=\"_blank\" href=https://colab.research.google.com/notebooks/data_table.ipynb>data table notebook</a>'\n",
       "            + ' to learn more about interactive tables.';\n",
       "          element.innerHTML = '';\n",
       "          dataTable['output_type'] = 'display_data';\n",
       "          await google.colab.output.renderOutput(dataTable, element);\n",
       "          const docLink = document.createElement('div');\n",
       "          docLink.innerHTML = docLinkHtml;\n",
       "          element.appendChild(docLink);\n",
       "        }\n",
       "      </script>\n",
       "    </div>\n",
       "  </div>\n",
       "  "
      ],
      "text/plain": [
       "Year                 2017     2018     2019    2020     2021\n",
       "Investment (CAD)  -630000        0        0       0        0\n",
       "Savings (CAD)     61923.1  69533.4  78079.1   87675  98450.3\n",
       "Earnings (CAD)     105423   118379   132928  149265   167609\n",
       "Total (CAD)        167346   187912   211007  236940   266059"
      ]
     },
     "execution_count": 55,
     "metadata": {},
     "output_type": "execute_result"
    }
   ],
   "source": [
    "# extrapolate the 2017 data given the expected growth rate (CAGR) \n",
    "\n",
    "for i in enumerate(['2017', '2018', '2019', '2020']):\n",
    "  def extrapol(x, CAGR): \n",
    "    return x *(1+projected_CAGR)\n",
    "  value = extrapol(project_forecast.iloc[:, (i[0])]['Earnings (CAD)'], CAGR=projected_CAGR)\n",
    "  project_forecast.iloc[:,(i[0]+1)]['Earnings (CAD)'] = value\n",
    "\n",
    "  value = extrapol(project_forecast.iloc[:, (i[0])]['Savings (CAD)'], CAGR=projected_CAGR)\n",
    "  project_forecast.iloc[:,(i[0]+1)]['Savings (CAD)'] = value\n",
    "\n",
    "for i in enumerate(['2017', '2018', '2019', '2020', '2021']):\n",
    "  project_forecast.iloc[:, (i[0])]['Total (CAD)'] = project_forecast.iloc[:,(i[0])]['Earnings (CAD)'] + project_forecast.iloc[:,(i[0])]['Savings (CAD)'] \n",
    "\n",
    "\n",
    "project_forecast"
   ]
  },
  {
   "cell_type": "code",
   "execution_count": null,
   "metadata": {
    "id": "RiXh-Kh1aNrV"
   },
   "outputs": [],
   "source": [
    "# Rates assumptions \n",
    "\n",
    "g = 0.05 #(long-term growth rate)\n",
    "r = 0.13 # the actual discount should be equal to the bank's return on capital which we don't know \n",
    "cap_rate = r - g  \n",
    "\n",
    "# Terminal value of the project \n",
    "\n",
    "terminal_value = (project_forecast.iloc[:, 4]['Total (CAD)']**(1+g))/cap_rate"
   ]
  },
  {
   "cell_type": "code",
   "execution_count": null,
   "metadata": {
    "id": "kVTY0b6rbTe1"
   },
   "outputs": [],
   "source": [
    "# Make a list of values and include the terminal value in the list at the end summing it with the last value \n",
    "\n",
    "total_cad = project_forecast.iloc[3].tolist()\n",
    "\n",
    "total_cad_2021 = project_forecast.iloc[:, 4]['Total (CAD)']\n",
    "total_cad.pop(4)\n",
    "total_cad.append(total_cad_2021 + terminal_value)"
   ]
  },
  {
   "cell_type": "code",
   "execution_count": null,
   "metadata": {
    "colab": {
     "base_uri": "https://localhost:8080/"
    },
    "id": "fip2sQr6eVvQ",
    "outputId": "b3b8277c-dcbe-4b3f-fe40-609ceddb84e4"
   },
   "outputs": [
    {
     "name": "stdout",
     "output_type": "stream",
     "text": [
      " CAD 4635392.6, which is equivalent to USD 3661960.154\n"
     ]
    },
    {
     "name": "stderr",
     "output_type": "stream",
     "text": [
      "/usr/local/lib/python3.7/dist-packages/ipykernel_launcher.py:3: DeprecationWarning: numpy.npv is deprecated and will be removed from NumPy 1.20. Use numpy_financial.npv instead (https://pypi.org/project/numpy-financial/).\n",
      "  This is separate from the ipykernel package so we can avoid doing imports until\n"
     ]
    }
   ],
   "source": [
    "# Calculate the project's NPV\n",
    "\n",
    "npv_project = np.npv(r,total_cad)\n",
    "print(f' CAD {round(npv_project, 2)}, which is equivalent to USD {round(npv_project, 2)*0.79}')"
   ]
  },
  {
   "cell_type": "markdown",
   "metadata": {
    "id": "GjtWa6kSdopJ"
   },
   "source": [
    "The above calculation shows that the NPV of the project exceeds CAD 4.6 mln even given the conservative terminal growth estimations and discount rate. "
   ]
  },
  {
   "cell_type": "code",
   "execution_count": null,
   "metadata": {
    "id": "pJa4dvSSirch"
   },
   "outputs": [],
   "source": [
    "# Calculate the total gain\n",
    "\n",
    "total_gain = 0\n",
    "list_total_cad = project_forecast.iloc[3].tolist()\n",
    "\n",
    "for element in range(0, len(list_total_cad)):\n",
    "    total_gain = total_gain + list_total_cad[element]"
   ]
  },
  {
   "cell_type": "code",
   "execution_count": null,
   "metadata": {
    "colab": {
     "base_uri": "https://localhost:8080/"
    },
    "id": "r9t_pP-MiVcO",
    "outputId": "65586de1-b4ec-4c05-a8bc-35f6a3db9098"
   },
   "outputs": [
    {
     "data": {
      "text/plain": [
       "1.7"
      ]
     },
     "execution_count": 60,
     "metadata": {},
     "output_type": "execute_result"
    }
   ],
   "source": [
    "# ROI\n",
    "\n",
    "ROI = round((-1)*total_gain/project_forecast.iloc[:, 0]['Investment (CAD)'],2)\n",
    "\n",
    "ROI"
   ]
  },
  {
   "cell_type": "markdown",
   "metadata": {
    "id": "dH-9FwT5d6Yl"
   },
   "source": [
    "The calculation shows that the ROI of the project given the projected level of investment shall be around 1.7, which signifies a profitable project."
   ]
  },
  {
   "cell_type": "code",
   "execution_count": null,
   "metadata": {
    "colab": {
     "base_uri": "https://localhost:8080/",
     "height": 431
    },
    "id": "2Peu1PxQmoSF",
    "outputId": "615cf007-4b48-43a4-b801-1b5ddfb76ef5"
   },
   "outputs": [
    {
     "data": {
      "text/plain": [
       "[Text(0.5, 1.0, 'Economic Benefit from Auto-Adjudication')]"
      ]
     },
     "execution_count": 61,
     "metadata": {},
     "output_type": "execute_result"
    },
    {
     "data": {
      "image/png": "[encoded data removed]",
      "text/plain": [
       "<Figure size 720x432 with 1 Axes>"
      ]
     },
     "metadata": {},
     "output_type": "display_data"
    }
   ],
   "source": [
    "# Plot the Savings, Earnings and Total \n",
    "\n",
    "import seaborn as sns\n",
    "\n",
    "plt.figure(figsize=(10,6)) \n",
    "sns.set_style(\"ticks\")\n",
    "sns.set_context(\"paper\", font_scale=1.5)\n",
    "savings_earnings = sns.lineplot(data = project_forecast.T[['Savings (CAD)', 'Earnings (CAD)', 'Total (CAD)']], palette = sns.color_palette(\"husl\",3))\n",
    "savings_earnings.set(title = 'Economic Benefit from Auto-Adjudication')"
   ]
  },
  {
   "cell_type": "markdown",
   "metadata": {
    "id": "O8FkiwZ2ePoY"
   },
   "source": [
    "### **Machine Learning Models** "
   ]
  },
  {
   "cell_type": "markdown",
   "metadata": {
    "id": "z7DzQD4vr9vN"
   },
   "source": [
    "#### **Feature Engineering**\n",
    "\n",
    "Since we know that the bank won't finance properties at more than 25% LTV, we should check if this rule has been followed in the previous periods."
   ]
  },
  {
   "cell_type": "code",
   "execution_count": null,
   "metadata": {
    "id": "OHAMJpFsvlUM"
   },
   "outputs": [],
   "source": [
    "# Create a set for Modelling and drop the columns that are no longer important \n",
    "\n",
    "train_test_mortgages = mortgages_data.drop(columns = ['First Appraisal Date',\t'First Appraisal Value',\t'Funded Date', 'Days To Fund', 'Total Approved Amount'])"
   ]
  },
  {
   "cell_type": "code",
   "execution_count": null,
   "metadata": {
    "id": "j-FKlNQmwHAf"
   },
   "outputs": [],
   "source": [
    "# Get dummies from categorical variables and drop the first columns of each dummified value to reduce dimentionality \n",
    "\n",
    "train_test_mortgages = pd.get_dummies(train_test_mortgages, columns = ['POA / Influencer', 'Property Type', 'Province', 'City'], drop_first=True)"
   ]
  },
  {
   "cell_type": "code",
   "execution_count": null,
   "metadata": {
    "colab": {
     "base_uri": "https://localhost:8080/"
    },
    "id": "6VM3dniBx0W2",
    "outputId": "a685e5bf-11e2-44d8-bf81-dafb50d189ca"
   },
   "outputs": [
    {
     "name": "stdout",
     "output_type": "stream",
     "text": [
      "Counter({0: 3067, 1: 519})\n"
     ]
    }
   ],
   "source": [
    "from collections import Counter\n",
    "from sklearn.datasets import make_classification\n",
    "from imblearn.over_sampling import SMOTE\n",
    "\n",
    "from sklearn.datasets import load_breast_cancer\n",
    "from sklearn.model_selection import train_test_split\n",
    "from sklearn.preprocessing import StandardScaler\n",
    "\n",
    "# Create features \n",
    "\n",
    "X = train_test_mortgages.drop(columns = 'Default Status')\n",
    "y = train_test_mortgages['Default Status']\n",
    "\n",
    "# Summarize class distribution\n",
    "counter = Counter(y)\n",
    "print(counter)"
   ]
  },
  {
   "cell_type": "markdown",
   "metadata": {
    "id": "IPaZ8S78ehsC"
   },
   "source": [
    "Above, we dropped the unimportant variables and created dummies of those that are of interest for our machine learning models. "
   ]
  },
  {
   "cell_type": "code",
   "execution_count": null,
   "metadata": {
    "colab": {
     "base_uri": "https://localhost:8080/"
    },
    "id": "EZ1YXDrw_dkI",
    "outputId": "aab920c3-1f24-4a1c-d435-999ac50f247e"
   },
   "outputs": [
    {
     "name": "stdout",
     "output_type": "stream",
     "text": [
      "Counter({0: 3067, 1: 3067})\n"
     ]
    }
   ],
   "source": [
    "# Transform the dataset and handle the class imbalance\n",
    "oversample = SMOTE()\n",
    "X, y = oversample.fit_resample(X, y)\n",
    "# Summarize the new class distribution\n",
    "counter = Counter(y)\n",
    "print(counter)"
   ]
  },
  {
   "cell_type": "markdown",
   "metadata": {
    "id": "Y_bf38Mbe62e"
   },
   "source": [
    "Above, we have applied a machine learning technique to balance the 'default' and no-default classes in the data-set."
   ]
  },
  {
   "cell_type": "code",
   "execution_count": null,
   "metadata": {
    "id": "KZ2ROisixnsc"
   },
   "outputs": [],
   "source": [
    "# split the data set into train and test conventionally - 70% train and 30% test\n",
    "\n",
    "# Train-Test-Split the data\n",
    "X_train, X_test, y_train, y_test = train_test_split( X, y, test_size=0.3, random_state=1)"
   ]
  },
  {
   "cell_type": "markdown",
   "metadata": {
    "id": "h-vXWpAIfhxx"
   },
   "source": [
    "### KNN model "
   ]
  },
  {
   "cell_type": "code",
   "execution_count": null,
   "metadata": {
    "id": "cvMHlClDyl0t"
   },
   "outputs": [],
   "source": [
    "# knn\n",
    "\n",
    "#Transform data\n",
    "scaler = StandardScaler()\n",
    "scaler.fit(X_train)\n",
    "X_train = scaler.transform(X_train)\n",
    "X_test = scaler.transform(X_test)\n"
   ]
  },
  {
   "cell_type": "code",
   "execution_count": null,
   "metadata": {
    "colab": {
     "base_uri": "https://localhost:8080/"
    },
    "id": "8-BizZGqz-oH",
    "outputId": "36798e05-1277-46a2-e1a7-5feb56b08c72"
   },
   "outputs": [
    {
     "name": "stdout",
     "output_type": "stream",
     "text": [
      "Test set accuracy: 0.8397609994568169\n",
      "Test set accuracy: 0.8354155350353069\n",
      "Test set accuracy: 0.8142313959804454\n",
      "Test set accuracy: 0.8174904942965779\n",
      "Test set accuracy: 0.8055404671374253\n",
      "Test set accuracy: 0.8055404671374253\n",
      "Test set accuracy: 0.7876154263986963\n",
      "Test set accuracy: 0.7843563280825638\n",
      "Test set accuracy: 0.7702335687126561\n",
      "Test set accuracy: 0.7653449212384573\n",
      "Test set accuracy: 0.7544812601846822\n",
      "Test set accuracy: 0.7512221618685497\n",
      "Test set accuracy: 0.7409016838674634\n",
      "Test set accuracy: 0.7403585008147746\n",
      "Test set accuracy: 0.7256925583921782\n",
      "Test set accuracy: 0.7267789244975557\n",
      "Test set accuracy: 0.717001629549158\n",
      "Test set accuracy: 0.7164584464964693\n",
      "Test set accuracy: 0.7175448126018468\n",
      "Test set accuracy: 0.717001629549158\n",
      "Test set accuracy: 0.710483432916893\n",
      "Test set accuracy: 0.7088538837588267\n",
      "Test set accuracy: 0.6969038565996741\n",
      "Test set accuracy: 0.6963606735469854\n",
      "Test set accuracy: 0.686040195545899\n",
      "Test set accuracy: 0.6844106463878327\n",
      "Test set accuracy: 0.6800651819663226\n"
     ]
    }
   ],
   "source": [
    "# Create a KNN model\n",
    "\n",
    "from sklearn.neighbors import KNeighborsClassifier\n",
    "from sklearn.metrics import accuracy_score\n",
    "\n",
    "# Split our data into train & test sets\n",
    "\n",
    "accuracy_score_KNN = []\n",
    "\n",
    "for i in range(3,30,1):\n",
    "\n",
    "  # Instantiate the model & fit it to our data\n",
    "  KNN_model = KNeighborsClassifier(n_neighbors=i)\n",
    "  KNN_model.fit(X_train, y_train)\n",
    "\n",
    "  # Score the model on the test set\n",
    "  test_predictions = KNN_model.predict(X_test)\n",
    "  test_accuracy = accuracy_score(test_predictions, y_test)\n",
    "  print(f\"Test set accuracy: {test_accuracy}\")\n",
    "  accuracy_score_KNN.append(test_accuracy)\n",
    "\n",
    "# Choose the best model\n",
    "k_optimal = accuracy_score_KNN.index(max(accuracy_score_KNN))+1\n",
    "KNN_model = KNeighborsClassifier(n_neighbors=k_optimal)\n",
    "KNN_model.fit(X_train, y_train)\n",
    "test_predictions = KNN_model.predict(X_test)"
   ]
  },
  {
   "cell_type": "code",
   "execution_count": null,
   "metadata": {
    "colab": {
     "base_uri": "https://localhost:8080/"
    },
    "id": "ko6pt_s-1i_u",
    "outputId": "e6831f7f-e22a-40f1-e205-144406ce6b7d"
   },
   "outputs": [
    {
     "name": "stdout",
     "output_type": "stream",
     "text": [
      "              precision    recall  f1-score   support\n",
      "\n",
      "           0       0.93      0.79      0.86       927\n",
      "           1       0.82      0.94      0.88       914\n",
      "\n",
      "    accuracy                           0.87      1841\n",
      "   macro avg       0.88      0.87      0.87      1841\n",
      "weighted avg       0.88      0.87      0.87      1841\n",
      "\n",
      "[[735 192]\n",
      " [ 52 862]]\n"
     ]
    }
   ],
   "source": [
    "# classification report and confusion matrix - KNN\n",
    "\n",
    "print(classification_report(y_test, test_predictions))\n",
    "print(confusion_matrix(y_test, test_predictions))"
   ]
  },
  {
   "cell_type": "markdown",
   "metadata": {
    "id": "UFMvXbsTfEyT"
   },
   "source": [
    "The KNN model performed well overall, capturing 94% of instances of default and can reliably be used for taking reverse mortgage loans decision based on the client input data."
   ]
  },
  {
   "cell_type": "markdown",
   "metadata": {
    "id": "pWesMxbPfcWF"
   },
   "source": [
    "#### Logistic Regression Model"
   ]
  },
  {
   "cell_type": "code",
   "execution_count": null,
   "metadata": {
    "colab": {
     "base_uri": "https://localhost:8080/"
    },
    "id": "asBb4ex11Kly",
    "outputId": "3554d53a-f912-4b59-a80a-e257a4882fb0"
   },
   "outputs": [
    {
     "name": "stdout",
     "output_type": "stream",
     "text": [
      "Accuracy score for the logistic regression - train score: 1.000\n",
      "Accuracy score for the logistic regression - test score: 0.997\n",
      "Logistic Regression - Classification Report\n",
      "              precision    recall  f1-score   support\n",
      "\n",
      "           0       1.00      1.00      1.00       927\n",
      "           1       1.00      1.00      1.00       914\n",
      "\n",
      "    accuracy                           1.00      1841\n",
      "   macro avg       1.00      1.00      1.00      1841\n",
      "weighted avg       1.00      1.00      1.00      1841\n",
      "\n"
     ]
    }
   ],
   "source": [
    "# Logistic Regression\n",
    "\n",
    "from sklearn.linear_model import LogisticRegression\n",
    "\n",
    "log_reg_model = LogisticRegression(max_iter=1000, C=0.001) \n",
    "log_reg_model.fit(X_train, y_train)\n",
    "\n",
    "log_reg_model_train_score = log_reg_model.score(X_train, y_train)\n",
    "\n",
    "y_pred = log_reg_model.predict(X_test)\n",
    "\n",
    "log_reg_model_test_score = log_reg_model.score(X_test, y_test)\n",
    "\n",
    "\n",
    "print(f'Accuracy score for the logistic regression - train score: {log_reg_model_train_score:.3f}')\n",
    "print(f'Accuracy score for the logistic regression - test score: {log_reg_model_test_score:.3f}')\n",
    "\n",
    "print('Logistic Regression - Classification Report')   \n",
    "print(classification_report(y_test, y_pred))"
   ]
  },
  {
   "cell_type": "markdown",
   "metadata": {
    "id": "0O-7Hxnvfm2W"
   },
   "source": [
    "The logistic regression model performed better than KNN, identifying 0.997 percent of default instances that is very accurate and reliable and should be preferred to KNN."
   ]
  },
  {
   "cell_type": "markdown",
   "metadata": {
    "id": "JdTZlipbf6yp"
   },
   "source": [
    "### Decision Trees"
   ]
  },
  {
   "cell_type": "code",
   "execution_count": null,
   "metadata": {
    "colab": {
     "base_uri": "https://localhost:8080/"
    },
    "id": "Um_axtnr67-y",
    "outputId": "6ca37d50-4e22-4dfb-a75f-58c36d7600c2"
   },
   "outputs": [
    {
     "name": "stdout",
     "output_type": "stream",
     "text": [
      "Fitting 5 folds for each of 342 candidates, totalling 1710 fits\n"
     ]
    }
   ],
   "source": [
    "# perform the best parameters for Decision Trees \n",
    "\n",
    "from sklearn.model_selection import GridSearchCV\n",
    "from sklearn.tree import DecisionTreeClassifier\n",
    "\n",
    "params = {'max_depth': list(range(2, 20,1)), 'min_samples_leaf': list(range(1,20, 1))} \n",
    "grid_search_cv = GridSearchCV(DecisionTreeClassifier(random_state=42), params, verbose=1, cv=5)\n",
    "\n",
    "grid_search_cv.fit(X_train, y_train)\n",
    "grid_mortgages = grid_search_cv.best_estimator_"
   ]
  },
  {
   "cell_type": "code",
   "execution_count": null,
   "metadata": {
    "colab": {
     "base_uri": "https://localhost:8080/"
    },
    "id": "oRlEovZj-VAW",
    "outputId": "3a6041f6-1beb-47d4-e18c-f708b167818c"
   },
   "outputs": [
    {
     "name": "stdout",
     "output_type": "stream",
     "text": [
      "DecisionTreeClassifier(max_depth=2, random_state=42)\n"
     ]
    }
   ],
   "source": [
    "print(grid_mortgages)"
   ]
  },
  {
   "cell_type": "code",
   "execution_count": null,
   "metadata": {
    "colab": {
     "base_uri": "https://localhost:8080/"
    },
    "id": "QS6qoOqU7fVn",
    "outputId": "2779398c-6d63-49c5-92b6-b7aaf174cf11"
   },
   "outputs": [
    {
     "name": "stdout",
     "output_type": "stream",
     "text": [
      "Train accuracy score - train set: 1.000\n",
      "Test accuracy score - train set: 1.000\n",
      "              precision    recall  f1-score   support\n",
      "\n",
      "           0       1.00      1.00      1.00       927\n",
      "           1       1.00      1.00      1.00       914\n",
      "\n",
      "    accuracy                           1.00      1841\n",
      "   macro avg       1.00      1.00      1.00      1841\n",
      "weighted avg       1.00      1.00      1.00      1841\n",
      "\n",
      "[[927   0]\n",
      " [  0 914]]\n"
     ]
    }
   ],
   "source": [
    "from sklearn.metrics import classification_report, confusion_matrix\n",
    "\n",
    "# the ideal models \n",
    "\n",
    "grid_mortgages.fit(X_train, y_train)\n",
    "\n",
    "print(f'Train accuracy score - train set: {grid_mortgages.score(X_train, y_train):.3f}')\n",
    "print(f'Test accuracy score - train set: {grid_mortgages.score(X_test, y_test):.3f}')\n",
    "\n",
    "print(classification_report(y_test, grid_mortgages.predict(X_test) ))\n",
    "print(confusion_matrix(y_test, grid_mortgages.predict(X_test) ))\n"
   ]
  },
  {
   "cell_type": "markdown",
   "metadata": {
    "id": "ivyKqY-wgFWi"
   },
   "source": [
    "Based on the above, Decision Trees demonstrated the best performance, having identified 100% of potentially defaulting loans. It is the model of choice for the auto-adjudication purposes. "
   ]
  }
 ],
 "metadata": {
  "colab": {
   "collapsed_sections": [],
   "name": "Default Identifier.ipynb",
   "provenance": []
  },
  "kernelspec": {
   "display_name": "Python 3",
   "language": "python",
   "name": "python3"
  },
  "language_info": {
   "codemirror_mode": {
    "name": "ipython",
    "version": 3
   },
   "file_extension": ".py",
   "mimetype": "text/x-python",
   "name": "python",
   "nbconvert_exporter": "python",
   "pygments_lexer": "ipython3",
   "version": "3.8.8"
  }
 },
 "nbformat": 4,
 "nbformat_minor": 1
}
