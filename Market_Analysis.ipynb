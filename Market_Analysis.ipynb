{
 "cells": [
  {
   "cell_type": "markdown",
   "metadata": {
    "id": "gVigVzOROmgM"
   },
   "source": [
    "# A Brief Market Analysis - Reverse Mortgages \n",
    "\n",
    "By M. Kayumov "
   ]
  },
  {
   "cell_type": "code",
   "execution_count": null,
   "metadata": {
    "id": "cqdapkuk-7GN"
   },
   "outputs": [],
   "source": [
    "# Load package \n",
    "\n",
    "import numpy as np\n",
    "import pandas as pd\n",
    "import matplotlib.pyplot as plt\n",
    "import seaborn as sns"
   ]
  },
  {
   "cell_type": "code",
   "execution_count": null,
   "metadata": {
    "colab": {
     "base_uri": "https://localhost:8080/"
    },
    "id": "15X-2neP_FWX",
    "outputId": "a86c0aed-61fa-4a08-d1c9-c46962898eec"
   },
   "outputs": [
    {
     "name": "stdout",
     "output_type": "stream",
     "text": [
      "Mounted at /content/drive\n"
     ]
    }
   ],
   "source": [
    "# Work with google drive \n",
    "\n",
    "from google.colab import drive\n",
    "drive.mount('/content/drive')"
   ]
  },
  {
   "cell_type": "markdown",
   "metadata": {
    "id": "DKuypyUBP0t7"
   },
   "source": [
    "### CAGR (Compounded Annual Growth Rate)"
   ]
  },
  {
   "cell_type": "markdown",
   "metadata": {
    "id": "wv_50nBXO6L_"
   },
   "source": [
    "We've collected the data for the two banks providing reverse mortgages from OSFI website and complied it into a csv file. "
   ]
  },
  {
   "cell_type": "code",
   "execution_count": null,
   "metadata": {
    "id": "imMgTFr3_956"
   },
   "outputs": [],
   "source": [
    "# Load data from OSFI on Reverse Mortgages \n",
    "\n",
    "data = pd.read_csv('/content/drive/MyDrive/reverse_mortgages/bank_stats_homeequity.csv')"
   ]
  },
  {
   "cell_type": "code",
   "execution_count": null,
   "metadata": {
    "colab": {
     "base_uri": "https://localhost:8080/"
    },
    "id": "aYzFoROc_hMq",
    "outputId": "7e32a476-a21f-49e4-f0ca-a4977e3f35de"
   },
   "outputs": [
    {
     "name": "stdout",
     "output_type": "stream",
     "text": [
      "<class 'pandas.core.frame.DataFrame'>\n",
      "RangeIndex: 3 entries, 0 to 2\n",
      "Data columns (total 5 columns):\n",
      " #   Column         Non-Null Count  Dtype \n",
      "---  ------         --------------  ----- \n",
      " 0   Bank           3 non-null      object\n",
      " 1   Oct. 31, 2021  3 non-null      int64 \n",
      " 2   Oct. 31, 2020  3 non-null      int64 \n",
      " 3   Oct. 31, 2019  3 non-null      int64 \n",
      " 4   Oct. 31, 2018  3 non-null      int64 \n",
      "dtypes: int64(4), object(1)\n",
      "memory usage: 248.0+ bytes\n"
     ]
    }
   ],
   "source": [
    "# Load data - it is in X 1000 CAD \n",
    "\n",
    "data.info()"
   ]
  },
  {
   "cell_type": "markdown",
   "metadata": {
    "id": "SwJw_c1MPSma"
   },
   "source": [
    "We will calculate the CAGR of the reverse mortgages for the 4 years."
   ]
  },
  {
   "cell_type": "code",
   "execution_count": null,
   "metadata": {
    "id": "OD5HwSQ2Aofv"
   },
   "outputs": [],
   "source": [
    "# Create a function to calculate CAGR \n",
    "\n",
    "def CAGR(beg, end, years): \n",
    "  CAGR = (((end/beg)**(1/years)) - 1)*100\n",
    "  return (f'{round(CAGR,2)}%')"
   ]
  },
  {
   "cell_type": "code",
   "execution_count": null,
   "metadata": {
    "id": "jHXPO3ZzCOO4"
   },
   "outputs": [],
   "source": [
    "# Indicate the parameters for CAGR\n",
    "\n",
    "beg = data['Oct. 31, 2018'].loc[2]\n",
    "end = data['Oct. 31, 2021'].loc[2]\n",
    "years = data.shape[1]-1"
   ]
  },
  {
   "cell_type": "code",
   "execution_count": null,
   "metadata": {
    "colab": {
     "base_uri": "https://localhost:8080/",
     "height": 35
    },
    "id": "zrjT8UGDALZ2",
    "outputId": "0d96b563-5d7f-4b76-fc63-1a64c9d03306"
   },
   "outputs": [
    {
     "data": {
      "application/vnd.google.colaboratory.intrinsic+json": {
       "type": "string"
      },
      "text/plain": [
       "'12.29%'"
      ]
     },
     "execution_count": 7,
     "metadata": {},
     "output_type": "execute_result"
    }
   ],
   "source": [
    "# Show the CAGR \n",
    "\n",
    "CAGR(beg, end, years)"
   ]
  },
  {
   "cell_type": "markdown",
   "metadata": {
    "id": "hZEu0mzwPxZm"
   },
   "source": [
    "### Population and Demographics "
   ]
  },
  {
   "cell_type": "markdown",
   "metadata": {
    "id": "hEqqgJ5AQMzs"
   },
   "source": [
    "We collected the demographic data from the following resources:\n",
    "\n",
    "- https://www.bankofcanada.ca, \n",
    "- https://www.statista.com/, \n",
    "- https://www150.statcan.gc.ca/, \n",
    "- https://www.statcan.gc.ca/, \n",
    "- https://www.canada.ca/, \n",
    "- https://www.osfi-bsif.gc.ca/     \n",
    "\n",
    "Then, we compiled the data into a file to process here, or used the data directly from those resources."
   ]
  },
  {
   "cell_type": "code",
   "execution_count": null,
   "metadata": {
    "id": "yq_F7N1aMBXp"
   },
   "outputs": [],
   "source": [
    "# Load data - population by age and sex - from statcan\n",
    "\n",
    "population = pd.read_csv('/content/drive/MyDrive/reverse_mortgages/Age and sex distribution of the population, 2021, Canada.csv')"
   ]
  },
  {
   "cell_type": "code",
   "execution_count": null,
   "metadata": {
    "colab": {
     "base_uri": "https://localhost:8080/"
    },
    "id": "jWDWzU2oMKoc",
    "outputId": "af8f0ffb-ce1b-4153-a8bd-e1dc3e6acbdb"
   },
   "outputs": [
    {
     "name": "stdout",
     "output_type": "stream",
     "text": [
      "12376036\n",
      "32.36%\n"
     ]
    }
   ],
   "source": [
    "# Population 55+ total and % \n",
    "\n",
    "population_55_total = population.loc[1:9]['Male'].sum()+population.loc[1:9]['Female'].sum()\n",
    "print(population_55_total)\n",
    "population_55_total_pct = round(population_55_total/(population['Male'].sum() + population['Female'].sum()),4)*100\n",
    "print(f'{population_55_total_pct}%')"
   ]
  },
  {
   "cell_type": "markdown",
   "metadata": {
    "id": "-f2k5lBzRonb"
   },
   "source": [
    "We've established that the population older than 55 in Canada amounts to 12.4 mln people, which is equivalent to 32.4% of the population."
   ]
  },
  {
   "cell_type": "code",
   "execution_count": null,
   "metadata": {
    "id": "fAAiwKP4N19a"
   },
   "outputs": [],
   "source": [
    "total_mortgage_assets_canada = 108.2*1000000000 #https://www.bankofcanada.ca/2021/05/financial-system-review-2021/"
   ]
  },
  {
   "cell_type": "markdown",
   "metadata": {
    "id": "DeKBtIicR-UJ"
   },
   "source": [
    "We've established that the total sum of residential mortgage assets in Canada on the balance sheets of financial institutions amounts to CAD 108.2 BN. "
   ]
  },
  {
   "cell_type": "code",
   "execution_count": null,
   "metadata": {
    "colab": {
     "base_uri": "https://localhost:8080/"
    },
    "id": "96QZQLxlOXjU",
    "outputId": "ded57d87-dd2e-416c-bde5-eefddf9cd0b4"
   },
   "outputs": [
    {
     "name": "stdout",
     "output_type": "stream",
     "text": [
      "4.02 %\n"
     ]
    }
   ],
   "source": [
    "pct_reverse_mortgages = round(end*1000/total_mortgage_assets_canada *100,2)\n",
    "print(f'{pct_reverse_mortgages} %')"
   ]
  },
  {
   "cell_type": "markdown",
   "metadata": {
    "id": "fGXp-OvTSYwC"
   },
   "source": [
    "Of all residential mortgage assets on the balance sheet of financial institutions, reverse mortgages only constitute 4.02 %, which is disproportionately small considering the share of the population to whom this product is available. "
   ]
  },
  {
   "cell_type": "markdown",
   "metadata": {
    "id": "23t5DYuuTDNK"
   },
   "source": [
    "### Income "
   ]
  },
  {
   "cell_type": "markdown",
   "metadata": {
    "id": "fNyAKUpmTHXv"
   },
   "source": [
    "We've found the data that covers the population distribution by age on https://www150.statcan.gc.ca/. "
   ]
  },
  {
   "cell_type": "code",
   "execution_count": null,
   "metadata": {
    "id": "OHiCi_jTVDyn"
   },
   "outputs": [],
   "source": [
    "# Income data # from https://www150.statcan.gc.ca/\n",
    "\n",
    "income_data = pd.read_csv('/content/drive/MyDrive/reverse_mortgages/11100239.csv')\n",
    "income_metadata = pd.read_csv('/content/drive/MyDrive/reverse_mortgages/11100239_MetaData.csv')"
   ]
  },
  {
   "cell_type": "markdown",
   "metadata": {
    "id": "RF7e9hHlVhmZ"
   },
   "source": [
    "We've analyzed the income brackets for the population that we are interested in."
   ]
  },
  {
   "cell_type": "code",
   "execution_count": null,
   "metadata": {
    "colab": {
     "base_uri": "https://localhost:8080/"
    },
    "id": "DwT53MFlwIH0",
    "outputId": "9a439680-b6fc-4f05-f994-039d2146c914"
   },
   "outputs": [
    {
     "data": {
      "text/plain": [
       "37800.0"
      ]
     },
     "execution_count": 13,
     "metadata": {},
     "output_type": "execute_result"
    }
   ],
   "source": [
    "# Median income in group 16+\n",
    "median_income_16_plus = income_data[(income_data['Age group'] == '16 years and over') & (income_data['Sex'] == 'Both sexes') & (income_data['REF_DATE'] == 2019) \n",
    "& (income_data['GEO'] == 'Canada')& (income_data['Statistics'] == 'Median income (excluding zeros)') & (income_data['Income source'] == 'Total income')]['VALUE'].values[0]\n",
    "median_income_16_plus"
   ]
  },
  {
   "cell_type": "markdown",
   "metadata": {
    "id": "C06vg1BRVzec"
   },
   "source": [
    "The median income for Canadians older than 16 y.o. is CAD 37.8 k."
   ]
  },
  {
   "cell_type": "code",
   "execution_count": null,
   "metadata": {
    "colab": {
     "base_uri": "https://localhost:8080/"
    },
    "id": "H_mVIfEUyaZx",
    "outputId": "ed309cd0-aa36-474b-8a6c-bed534b3e64b"
   },
   "outputs": [
    {
     "data": {
      "text/plain": [
       "42800.0"
      ]
     },
     "execution_count": 14,
     "metadata": {},
     "output_type": "execute_result"
    }
   ],
   "source": [
    "# Median income in group 55-64 \n",
    "\n",
    "median_income_55_64 = income_data[(income_data['Age group'] == '55 to 64 years') & (income_data['Sex'] == 'Both sexes') & (income_data['REF_DATE'] == 2019) & (income_data['GEO'] == 'Canada') \n",
    "& (income_data['Statistics'] == 'Median income (excluding zeros)') & (income_data['Income source'] == 'Total income')]['VALUE'].values[0]\n",
    "median_income_55_64"
   ]
  },
  {
   "cell_type": "markdown",
   "metadata": {
    "id": "SFL47e1BWAf9"
   },
   "source": [
    "The median income for Canadians aged 55-64 is CAD 42.8 k."
   ]
  },
  {
   "cell_type": "code",
   "execution_count": null,
   "metadata": {
    "colab": {
     "base_uri": "https://localhost:8080/"
    },
    "id": "jVSo0peSzaIp",
    "outputId": "b5549bbd-5b45-4b24-b2d1-2e3401dfb897"
   },
   "outputs": [
    {
     "data": {
      "text/plain": [
       "30400.0"
      ]
     },
     "execution_count": 15,
     "metadata": {},
     "output_type": "execute_result"
    }
   ],
   "source": [
    "# Median income in group 65+ \n",
    "\n",
    "median_income_65_plus = income_data[(income_data['Age group'] == '65 years and over') & (income_data['Sex'] == 'Both sexes') & (income_data['REF_DATE'] == 2019) & (income_data['GEO'] == 'Canada') \n",
    "& (income_data['Statistics'] == 'Median income (excluding zeros)') & (income_data['Income source'] == 'Total income')]['VALUE'].values[0]\n",
    "median_income_65_plus"
   ]
  },
  {
   "cell_type": "markdown",
   "metadata": {
    "id": "Ry81-I1JWHJz"
   },
   "source": [
    "The median income for Canadians older than 65 y.o. is CAD 30.4 k."
   ]
  },
  {
   "cell_type": "code",
   "execution_count": null,
   "metadata": {
    "colab": {
     "base_uri": "https://localhost:8080/"
    },
    "id": "Uf347G232dUi",
    "outputId": "ec327ee4-10c9-41da-faa7-89ceedc8415f"
   },
   "outputs": [
    {
     "name": "stdout",
     "output_type": "stream",
     "text": [
      "113.23 %\n",
      "80.42 %\n"
     ]
    }
   ],
   "source": [
    "# Income of seniors as percentage of average \n",
    "\n",
    "income_pct_55_64 = (round(median_income_55_64/median_income_16_plus *100,2))\n",
    "print(f'{income_pct_55_64} %')\n",
    "income_pct_65_plus = (round(median_income_65_plus/median_income_16_plus *100,2))\n",
    "print(f'{income_pct_65_plus} %')"
   ]
  },
  {
   "cell_type": "markdown",
   "metadata": {
    "id": "vwYQwTrWWVjD"
   },
   "source": [
    "The people in the age bracket from 55 to 64 earn on average 113.23% of the national average (median). Then, the income drops to 80.42% of the national average (median) after the age of 65.\n",
    "These income levels place older citizens close to the middle of the income distribution in Canada. \n",
    "\n",
    "Assuming that by the age of 55, most Canadians have paid off their mortgages, it appears that there is an enormous business opportunity. The share of reverse mortgages in Canada is just around 4.02% of the total mortgage amount in the structure of Canadian banks' assets. It seems to be disproportionately low compared to the share of the population that the target market for this type of product constitutes: as we know, 55+ people compose 32.36% of the population (https://www.statista.com/). \n",
    "\n",
    "The presence of the business opportunity is supported by the rates of growth of the reverse mortgages in the past years, especially in the last 4 years, when the CAGR on average amounted to 12.29% p.a."
   ]
  },
  {
   "cell_type": "markdown",
   "metadata": {
    "id": "COk0NtYsVEZc"
   },
   "source": [
    "To grasp the maximum share of this business opportunity and to do it in an economical way, the bank should be able to guarantee the smoothness of the reverse mortgage process. An important part of the process is the adjudication step, which, as we know, takes on average 2 days. \n",
    "\n",
    "This indicates that, as the business grows, the bank my face two challenges:\n",
    "- the need to hire more risk management stuff to approve the mortgage requests;\n",
    "- difficulty in setting the pace in the industry without the necessary automation technology in place."
   ]
  }
 ],
 "metadata": {
  "colab": {
   "collapsed_sections": [],
   "name": "Market Analysis.ipynb",
   "provenance": []
  },
  "kernelspec": {
   "display_name": "Python 3",
   "language": "python",
   "name": "python3"
  },
  "language_info": {
   "codemirror_mode": {
    "name": "ipython",
    "version": 3
   },
   "file_extension": ".py",
   "mimetype": "text/x-python",
   "name": "python",
   "nbconvert_exporter": "python",
   "pygments_lexer": "ipython3",
   "version": "3.8.8"
  }
 },
 "nbformat": 4,
 "nbformat_minor": 1
}
